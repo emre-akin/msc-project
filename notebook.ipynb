{
  "nbformat": 4,
  "nbformat_minor": 0,
  "metadata": {
    "colab": {
      "name": "msc-project.ipynb",
      "provenance": [],
      "collapsed_sections": [
        "-PLCd4Y0Vxmf",
        "2MqwV1Q58cqE",
        "WgtesUOW8uFN",
        "39-jWaIQV7_Z",
        "JFSoZiRKJfvx",
        "3SVPw5y73wzL",
        "tGi0pU3aJs2H",
        "XpPau0QXYgT9",
        "A0JFdVJ9ILJs",
        "z1bhIgt1HV4B",
        "Sf4wFSVxanYX",
        "qiSNMbfOvafq",
        "IRIUjtWovdX1",
        "kddUw6sKuyct",
        "VMLQs2VNu3tN",
        "dgVvrwApKAXE"
      ],
      "toc_visible": true
    },
    "kernelspec": {
      "name": "python3",
      "display_name": "Python 3"
    },
    "language_info": {
      "name": "python"
    },
    "accelerator": "GPU"
  },
  "cells": [
    {
      "cell_type": "markdown",
      "metadata": {
        "id": "twPYhS6QFWhR"
      },
      "source": [
        "# References\n",
        "\n",
        "The code from the following articles have been adopted for this study.\n",
        "\n",
        "********************************************************************************\n",
        "###  Tensorflow reference\n",
        "*    Title: Text classification with an RNN\n",
        "*    Author: Google, Tensorflow\n",
        "*    Date: 2021\n",
        "*    Availability: https://www.tensorflow.org/tutorials/text/text_classification_rnn \n",
        "********************************************************************************\n",
        "### Transfer learning reference\n",
        "*    Title: Transfer learning and fine-tuning\n",
        "*    Author: Google, Tensorflow\n",
        "*    Date: 2021\n",
        "*    Availability: https://www.tensorflow.org/tutorials/images/transfer_learning\n",
        "********************************************************************************\n",
        "### Preprocessing, LSTM and embedding reference\n",
        "*    Title: Classify Toxic Online Comments with LSTM and GloVe\n",
        "*    Author: Susan Li\n",
        "*    Date: 2019\n",
        "*    Availability: https://github.com/susanli2016/NLP-with-Python/blob/master/Toxic%20Comments%20LSTM%20GloVe.ipynb\n",
        "********************************************************************************\n",
        "###  GloVe model reference\n",
        "*    Title: Word vectorization using GloVe\n",
        "*    Author: Japneet Singh Chawla\n",
        "*    Date: 2018\n",
        "*    Availability: https://medium.com/analytics-vidhya/word-vectorization-using-glove-76919685ee0b\n",
        "********************************************************************************\n",
        "###  Mittens reference\n",
        "*    Title: Fine tune GloVe embeddings using Mittens\n",
        "*    Author: Sivasurya Santhanam\n",
        "*    Date: 2020\n",
        "*    Availability: https://towardsdatascience.com/fine-tune-glove-embeddings-using-mittens-89b5f3fe4c39\n",
        "********************************************************************************\n",
        "###  EMBER dataset reference\n",
        "*    Title: EMBER: An Open Dataset for Training Static PE Malware Machine Learning Models\n",
        "*    Author: Hyrum S. Anderson, Phil Roth\n",
        "*    Date: 2018\n",
        "*    Availability: https://github.com/elastic/ember\n",
        "********************************************************************************\n",
        "###  Mal-API-2019 dataset reference\n",
        "*    Title: Deep learning based Sequential model for malware analysis using Windows exe API Calls\n",
        "*    Author: Ahmet Faruk Yazı, Ferhat Ozgur Catak, Ensar Gul\n",
        "*    Date: 2020\n",
        "*    Availability: https://github.com/ocatak/malware_api_class\n",
        "********************************************************************************"
      ]
    },
    {
      "cell_type": "markdown",
      "metadata": {
        "id": "-PLCd4Y0Vxmf"
      },
      "source": [
        "# Start"
      ]
    },
    {
      "cell_type": "code",
      "metadata": {
        "id": "D1XB0cVcYn0_"
      },
      "source": [
        "# Import libraries\n",
        "import pandas as pd\n",
        "import numpy as np\n",
        "import tensorflow as tf\n",
        "import pickle"
      ],
      "execution_count": null,
      "outputs": []
    },
    {
      "cell_type": "code",
      "metadata": {
        "id": "Xut1OcumVacE"
      },
      "source": [
        "# Define plot\n",
        "import matplotlib.pyplot as plt\n",
        "\n",
        "def plot_graphs(history, metric):\n",
        "  plt.plot(history.history[metric])\n",
        "  plt.plot(history.history['val_'+metric], '')\n",
        "  plt.xlabel(\"Epochs\")\n",
        "  plt.ylabel(metric)\n",
        "  plt.legend([metric, 'val_'+metric])"
      ],
      "execution_count": null,
      "outputs": []
    },
    {
      "cell_type": "code",
      "metadata": {
        "id": "JcGVc0fnQYIc"
      },
      "source": [
        "# Define f1 score\n",
        "import keras.backend as K\n",
        "\n",
        "def f1_metric(y_true, y_pred):\n",
        "    true_positives = K.sum(K.round(K.clip(y_true * y_pred, 0, 1)))\n",
        "    possible_positives = K.sum(K.round(K.clip(y_true, 0, 1)))\n",
        "    predicted_positives = K.sum(K.round(K.clip(y_pred, 0, 1)))\n",
        "    precision = true_positives / (predicted_positives + K.epsilon())\n",
        "    recall = true_positives / (possible_positives + K.epsilon())\n",
        "    f1_val = 2*(precision*recall)/(precision+recall+K.epsilon())\n",
        "    return f1_val"
      ],
      "execution_count": null,
      "outputs": []
    },
    {
      "cell_type": "code",
      "metadata": {
        "id": "tvjZ6FC4_4gQ"
      },
      "source": [
        "from tensorflow.keras import regularizers, initializers, optimizers, callbacks\n",
        "from tensorflow.keras.preprocessing.sequence import pad_sequences\n",
        "from tensorflow.keras.preprocessing.text import Tokenizer\n",
        "from keras.utils.np_utils import to_categorical\n",
        "from tensorflow.keras.layers import *\n",
        "from tensorflow.keras.models import Model\n",
        "from tensorflow.keras.callbacks import EarlyStopping, ModelCheckpoint"
      ],
      "execution_count": null,
      "outputs": []
    },
    {
      "cell_type": "markdown",
      "metadata": {
        "id": "WgtesUOW8uFN"
      },
      "source": [
        "# Preprocess text"
      ]
    },
    {
      "cell_type": "code",
      "metadata": {
        "id": "F2x65UPA89ru"
      },
      "source": [
        "# Load target dataset & tokenize\n",
        "df = pd.read_csv('/datasets/target_final.txt', names=['calls', 'types', 'Backdoor', 'Trojan', 'Spyware', 'Worms', 'Dropper', 'Downloader', 'Virus', 'Adware'])"
      ],
      "execution_count": null,
      "outputs": []
    },
    {
      "cell_type": "code",
      "metadata": {
        "id": "405jqV8iaqyp"
      },
      "source": [
        "calls_list = []\n",
        "for i in range(len(df)):\n",
        "  calls_list.append(df.calls[i])"
      ],
      "execution_count": null,
      "outputs": []
    },
    {
      "cell_type": "code",
      "metadata": {
        "id": "GkffBl-pKTQ5"
      },
      "source": [
        "labels = ['Backdoor', 'Trojan', 'Spyware', 'Worms', 'Dropper', 'Downloader', 'Virus', 'Adware']\n",
        "y = df[labels].values"
      ],
      "execution_count": null,
      "outputs": []
    },
    {
      "cell_type": "code",
      "metadata": {
        "colab": {
          "base_uri": "https://localhost:8080/"
        },
        "id": "06foQEZE-5XK",
        "outputId": "56aa101e-14ee-4621-b6dc-ec2ceada1b61"
      },
      "source": [
        "print('Sample data:', y[1])"
      ],
      "execution_count": null,
      "outputs": [
        {
          "output_type": "stream",
          "text": [
            "Sample data: [0 0 0 1 0 0 0 0]\n"
          ],
          "name": "stdout"
        }
      ]
    },
    {
      "cell_type": "code",
      "metadata": {
        "colab": {
          "base_uri": "https://localhost:8080/"
        },
        "id": "yW9Amb5x_jUo",
        "outputId": "da9e66dc-cf06-4265-ae8d-0cbb32432325"
      },
      "source": [
        "tokenizer = Tokenizer(num_words=100000)\n",
        "tokenizer.fit_on_texts(calls_list)\n",
        "sequences = tokenizer.texts_to_sequences(calls_list)\n",
        "word_index = tokenizer.word_index\n",
        "print('Vocabulary size:', len(word_index))"
      ],
      "execution_count": null,
      "outputs": [
        {
          "output_type": "stream",
          "text": [
            "Vocabulary size: 280\n"
          ],
          "name": "stdout"
        }
      ]
    },
    {
      "cell_type": "code",
      "metadata": {
        "colab": {
          "base_uri": "https://localhost:8080/"
        },
        "id": "0OfRmteRAe5Y",
        "outputId": "4b904315-ce71-4b66-e815-92a3216cc9ff"
      },
      "source": [
        "data = pad_sequences(sequences, padding = 'post', maxlen = 1000)\n",
        "print('Shape of data tensor:', data.shape)\n",
        "print('Shape of label tensor:', y.shape)"
      ],
      "execution_count": null,
      "outputs": [
        {
          "output_type": "stream",
          "text": [
            "Shape of data tensor: (7107, 1000)\n",
            "Shape of label tensor: (7107, 8)\n"
          ],
          "name": "stdout"
        }
      ]
    },
    {
      "cell_type": "code",
      "metadata": {
        "colab": {
          "base_uri": "https://localhost:8080/"
        },
        "id": "T9vD_DYTEpTx",
        "outputId": "559de974-cf94-40ea-af31-60d90c4edb3f"
      },
      "source": [
        "type(y)"
      ],
      "execution_count": null,
      "outputs": [
        {
          "output_type": "execute_result",
          "data": {
            "text/plain": [
              "numpy.ndarray"
            ]
          },
          "metadata": {
            "tags": []
          },
          "execution_count": 12
        }
      ]
    },
    {
      "cell_type": "code",
      "metadata": {
        "id": "jLwNGquIAwXq"
      },
      "source": [
        "indices = np.arange(data.shape[0])\n",
        "np.random.seed(0)\n",
        "np.random.shuffle(indices)\n",
        "data = data[indices]\n",
        "labels = y[indices]"
      ],
      "execution_count": null,
      "outputs": []
    },
    {
      "cell_type": "code",
      "metadata": {
        "colab": {
          "base_uri": "https://localhost:8080/"
        },
        "id": "dqfJiUpYA2YO",
        "outputId": "9a86bb39-bbb8-4995-f7f4-9553ea048c5f"
      },
      "source": [
        "num_validation_samples = int(0.2*data.shape[0])\n",
        "x_train = data[: -num_validation_samples]\n",
        "y_train = labels[: -num_validation_samples]\n",
        "x_val = data[-num_validation_samples: ]\n",
        "y_val = labels[-num_validation_samples: ]\n",
        "print('Number of entries in each category:')\n",
        "print('training: ', y_train.sum(axis=0))\n",
        "print('validation: ', y_val.sum(axis=0))"
      ],
      "execution_count": null,
      "outputs": [
        {
          "output_type": "stream",
          "text": [
            "Number of entries in each category:\n",
            "training:  [784 815 673 786 702 805 810 311]\n",
            "validation:  [217 186 159 215 189 196 191  68]\n"
          ],
          "name": "stdout"
        }
      ]
    },
    {
      "cell_type": "code",
      "metadata": {
        "colab": {
          "base_uri": "https://localhost:8080/"
        },
        "id": "u0UFljqKBDfR",
        "outputId": "9c58079d-4b8f-49ee-dd40-84ac6bbee975"
      },
      "source": [
        "print('Tokenized sentences: \\n', data[10])\n",
        "print('One hot label: \\n', labels[10])"
      ],
      "execution_count": null,
      "outputs": [
        {
          "output_type": "stream",
          "text": [
            "Tokenized sentences: \n",
            " [ 2  6 10 10  3  2  7  6 10 10  3  2  6 10 10  3  2  7  6 10 10 10  3  2\n",
            "  6 10 10  3  2  7  6 10 10  3  2  6 10 10  3  2  7  6 10 10  3  2  6 10\n",
            " 10  3  2  7  6 10 10  3  2  6 10 10  3  2  7  6 10 10  3  2  6 10 10  3\n",
            "  2  7  6 10 10  3  2  6 10 10  3  2  7  6 10 10  3  2  6 10 10  3  2  7\n",
            "  6 10 10  3  2  6 10 10  3  2  7  6 10 10  3  2  6 10 10  3  2  7  6 10\n",
            " 10  3  2  6 10 10  3  2  7  6 10 10  3  2  6 10 10  3  2  7  6 10 10  3\n",
            "  2  6 10 10  3  2  7  6 10 10  3  2  6 10 10  3  2  7  6 10 10  3  2  6\n",
            " 10 10  3  2  7  6 10 10  3  2  6 10 10  3  2  7  6 10 10  3  2  6 10 10\n",
            "  3  2  7  6 10 10  3  2  6 10 10  3  2  6 10 10  3  2  7  6 10 10  3  2\n",
            "  6 10 10  3  2  7  6 10 10  3  2  6 10 10  3  2  7  6 10 10  3  2  6 10\n",
            " 10  3  2  7  6 10 10  3  2  6 10 10  3  2  7  6 10 10  3  2  6 10 10  3\n",
            "  2  7  6 10 10  3  2  6 10 10  3  2  7  6 10 10  3  2  6 10 10  3  2  7\n",
            "  6 10 10  3  2  6 10 10  3  2  7  6 10 10  3  2  6 10 10  3  2  7  6 10\n",
            " 10  3  2  6 10 10  3  2  7  6 10 10  3  2  6 10 10  3  2  7  6 10 10  3\n",
            "  2  6 10 10  3  2  7  6 10 10  3  2  6 10 10  3  2  7  6 10 10  3  2  6\n",
            " 10 10  3  2  7  6 10 10  3  2  6 10 10  3  2  7  6 10 10  3  2  6 10 10\n",
            "  3  2  7  6 10 10  3  2  6 10 10  3  2  7  6 10 10  3  2  6 10 10  3  2\n",
            "  7  6 10 10  3  2  6 10 10  3  2  7  6 10 10  3  2  6 10 10  3  2  7  6\n",
            " 10 10  3  2  6 10 10  3  2  7  6 10 10  3  2  6 10 10  3  2  7  6 10 10\n",
            "  3  2  6 10 10  3  2  7  6 10 10  3  2  6 10 10  3  2  7  6 10 10  3  2\n",
            "  6 10 10  3  2  6 10 10  3  2  7  6 10 10  3  2  6 10 10  3  2  7  6 10\n",
            " 10  3  2  6 10 10  3  2  7  6 10 10  3  2  6 10 10  3  2  7  6 10 10  3\n",
            "  2  6 10 10  3  2  7  6 10 10  3  2  6 10 10  3  2  7  6 10 10  3  2  6\n",
            " 10 10  3  2  7  6 10 10  3  2  6 10 10  3  2  7  6 10 10  3  2  6 10 10\n",
            "  3  2  7  6 10 10  3  2  6 10 10  3  2  7  6 10 10  3  2  6 10 10  3  2\n",
            "  7  6 10 10  3  2  6 10 10  3  2  7  6 10 10  3  2  6 10 10  3  2  7  6\n",
            " 10 10  3  2  6 10 10  3  2  7  6 10 10  3  2  6 10 10  3  2  7  6 10 10\n",
            "  3  2  6 10 10  3  2  7  6 10 10  3  2  6 10 10  3  2  7  6 10 10  3  2\n",
            "  6 10 10  3  2  7  6 10 10  3  2  6 10 10  3  2  7  6 10 10  3  2  6 10\n",
            " 10  3  2  7  6 10 10  3  2  6 10 10  3  2  7  6 10 10  3  2  6 10 10  3\n",
            "  2  7  6 10 10  3  2  6 10 10  3  2  7  6 10 10  3  2  6 10 10  3  2  7\n",
            "  6 10 10  3  2  6 10 10  3  2  7  6 10 10  3  2  6 10 10  3  2  6 10 10\n",
            "  3  2  7  6 10 10  3  2  6 10 10  3  2  7  6 10 10  3  2  6 10 10  3  2\n",
            "  7  6 10 10  3  2  6 10 10  3  2  7  6 10 10  3  2  6 10 10  3  2  7  6\n",
            " 10 10  3  2  6 10 10  3  2  7  6 10 10  3  2  6 10 10  3  2  7  6 10 10\n",
            "  3  2  6 10 10  3  2  7  6 10 10  3  2  6 10 10  3  2  7  6 10 10  3  2\n",
            "  6 10 10  3  2  7  6 10 10  3  2  6 10 10  3  2  7  6 10 10  3  2  6 10\n",
            " 10  3  2  7  6 10 10  3  2  6 10 10  3  2  7  6 10 10  3  2  6 10 10  3\n",
            "  2  7  6 10 10  3  2  6 10 10  3  2  7  6 10 10  3  2  6 10 10  3  2  7\n",
            "  6 10 10  3  2  6 10 10  3  2  7  6 10 10  3  2  6 10 10  3  2  7  6 10\n",
            " 10  3  2  6 10 10  3  2  7  6 10 10  3  2  6 10 10  3  2  7  6 10 10  3\n",
            "  2  6 10 10  3  2  7  6 10 10  3  2  6 10 10  3]\n",
            "One hot label: \n",
            " [0 0 0 0 0 0 1 0]\n"
          ],
          "name": "stdout"
        }
      ]
    },
    {
      "cell_type": "markdown",
      "metadata": {
        "id": "AabzDW2wVyIh"
      },
      "source": [
        "# Model training"
      ]
    },
    {
      "cell_type": "markdown",
      "metadata": {
        "id": "JFSoZiRKJfvx"
      },
      "source": [
        "## 1. 256 BiLSTM Target"
      ]
    },
    {
      "cell_type": "code",
      "metadata": {
        "colab": {
          "base_uri": "https://localhost:8080/"
        },
        "id": "RvRjVgHglRMh",
        "outputId": "ec80973e-133f-4103-c9ee-3a14470e47dc"
      },
      "source": [
        "# Load GloVe word embedding\n",
        "embeddings_index = {}\n",
        "embedding_path = \"/embeddings/target_glove.txt\"\n",
        "f = open(embedding_path)\n",
        "print('Loading GloVe from:', embedding_path, '...', end='')\n",
        "for line in f:\n",
        "    values = line.split()\n",
        "    word = values[0]\n",
        "    embeddings_index[word] = np.asarray(values[1:], dtype='float32')\n",
        "f.close()\n",
        "print(\"Done.\\n Proceeding with Embedding Matrix...\", end=\"\")\n",
        "np.random.seed(10)\n",
        "embedding_matrix = np.random.random((len(word_index) + 1, 100))\n",
        "for word, i in word_index.items():\n",
        "    embedding_vector = embeddings_index.get(word)\n",
        "    if embedding_vector is not None:\n",
        "        embedding_matrix[i] = embedding_vector\n",
        "print(\" Completed!\")"
      ],
      "execution_count": null,
      "outputs": [
        {
          "output_type": "stream",
          "text": [
            "Loading GloVe from: /content/drive/MyDrive/embeddings/target_glove.txt ...Done.\n",
            " Proceeding with Embedding Matrix... Completed!\n"
          ],
          "name": "stdout"
        }
      ]
    },
    {
      "cell_type": "code",
      "metadata": {
        "id": "MwM1gfNgDkc-"
      },
      "source": [
        "# Configure the model\n",
        "sequence_input = Input(shape=(1000,), dtype='int32')\n",
        "embedding_layer = Embedding(len(word_index) + 1,\n",
        "                           100,\n",
        "                           weights = [embedding_matrix],\n",
        "                           input_length = 1000,\n",
        "                           trainable=False,\n",
        "                           name = 'embeddings')\n",
        "embedded_sequences = embedding_layer(sequence_input)\n",
        "x = Bidirectional(LSTM(256, return_sequences=True,name='lstm_layer'))(embedded_sequences)\n",
        "x = GlobalMaxPool1D()(x)\n",
        "x = Dropout(0.5)(x)\n",
        "x = Dense(128, activation=\"relu\")(x)\n",
        "x = Dropout(0.5)(x)\n",
        "preds = Dense(8, activation=\"softmax\")(x)"
      ],
      "execution_count": null,
      "outputs": []
    },
    {
      "cell_type": "code",
      "metadata": {
        "id": "VZX7BgQjRbsA"
      },
      "source": [
        "# Compile the model\n",
        "model = Model(sequence_input, preds)\n",
        "model.compile(loss = 'binary_crossentropy',\n",
        "             optimizer='adam',\n",
        "             metrics = ['accuracy', f1_metric])"
      ],
      "execution_count": null,
      "outputs": []
    },
    {
      "cell_type": "code",
      "metadata": {
        "colab": {
          "base_uri": "https://localhost:8080/"
        },
        "id": "MhmwDDxfD4Y-",
        "outputId": "425c5862-f978-4742-a64b-5552d1b0612c"
      },
      "source": [
        "model.summary()"
      ],
      "execution_count": null,
      "outputs": [
        {
          "output_type": "stream",
          "text": [
            "Model: \"model\"\n",
            "_________________________________________________________________\n",
            "Layer (type)                 Output Shape              Param #   \n",
            "=================================================================\n",
            "input_1 (InputLayer)         [(None, 1000)]            0         \n",
            "_________________________________________________________________\n",
            "embeddings (Embedding)       (None, 1000, 100)         28100     \n",
            "_________________________________________________________________\n",
            "bidirectional (Bidirectional (None, 1000, 512)         731136    \n",
            "_________________________________________________________________\n",
            "global_max_pooling1d (Global (None, 512)               0         \n",
            "_________________________________________________________________\n",
            "dropout (Dropout)            (None, 512)               0         \n",
            "_________________________________________________________________\n",
            "dense (Dense)                (None, 128)               65664     \n",
            "_________________________________________________________________\n",
            "dropout_1 (Dropout)          (None, 128)               0         \n",
            "_________________________________________________________________\n",
            "dense_1 (Dense)              (None, 8)                 1032      \n",
            "=================================================================\n",
            "Total params: 825,932\n",
            "Trainable params: 797,832\n",
            "Non-trainable params: 28,100\n",
            "_________________________________________________________________\n"
          ],
          "name": "stdout"
        }
      ]
    },
    {
      "cell_type": "code",
      "metadata": {
        "id": "PekF2K99r4uw",
        "colab": {
          "base_uri": "https://localhost:8080/",
          "height": 758
        },
        "outputId": "f58e2441-2961-4456-ed52-ab144d8ba26f"
      },
      "source": [
        "tf.keras.utils.plot_model(model)"
      ],
      "execution_count": null,
      "outputs": [
        {
          "output_type": "execute_result",
          "data": {
            "image/png": "[encoded data removed]",
            "text/plain": [
              "<IPython.core.display.Image object>"
            ]
          },
          "metadata": {
            "tags": []
          },
          "execution_count": 19
        }
      ]
    },
    {
      "cell_type": "code",
      "metadata": {
        "id": "cIdxTaCm0cT9"
      },
      "source": [
        "# Add callback & early stopping\n",
        "overfitCallback = [EarlyStopping(monitor='val_loss', min_delta=0, patience=10),\n",
        "         ModelCheckpoint(filepath='/models/256_bilstm/best_model.h5', monitor='val_loss', save_best_only=True)]"
      ],
      "execution_count": null,
      "outputs": []
    },
    {
      "cell_type": "code",
      "metadata": {
        "colab": {
          "base_uri": "https://localhost:8080/"
        },
        "id": "N6hIa4TnDvIJ",
        "outputId": "f568e34f-864a-4e9a-9434-46205d8706ad"
      },
      "source": [
        "# Train the model\n",
        "print('Training progress:')\n",
        "history = model.fit(x_train, y_train, epochs = 50, batch_size=64, validation_data=(x_val, y_val), callbacks=[overfitCallback])"
      ],
      "execution_count": null,
      "outputs": [
        {
          "output_type": "stream",
          "text": [
            "Training progress:\n",
            "Epoch 1/50\n",
            "89/89 [==============================] - 53s 206ms/step - loss: 0.4353 - accuracy: 0.1542 - val_loss: 0.3511 - val_accuracy: 0.2519\n",
            "Epoch 2/50\n",
            "89/89 [==============================] - 17s 189ms/step - loss: 0.3625 - accuracy: 0.2567 - val_loss: 0.3289 - val_accuracy: 0.3265\n",
            "Epoch 3/50\n",
            "89/89 [==============================] - 17s 193ms/step - loss: 0.3419 - accuracy: 0.3242 - val_loss: 0.3145 - val_accuracy: 0.3835\n",
            "Epoch 4/50\n",
            "89/89 [==============================] - 17s 197ms/step - loss: 0.3239 - accuracy: 0.3726 - val_loss: 0.3010 - val_accuracy: 0.4236\n",
            "Epoch 5/50\n",
            "89/89 [==============================] - 18s 198ms/step - loss: 0.3130 - accuracy: 0.4012 - val_loss: 0.2904 - val_accuracy: 0.4490\n",
            "Epoch 6/50\n",
            "89/89 [==============================] - 17s 194ms/step - loss: 0.3003 - accuracy: 0.4335 - val_loss: 0.2884 - val_accuracy: 0.4680\n",
            "Epoch 7/50\n",
            "89/89 [==============================] - 17s 193ms/step - loss: 0.3000 - accuracy: 0.4205 - val_loss: 0.2789 - val_accuracy: 0.4891\n",
            "Epoch 8/50\n",
            "89/89 [==============================] - 17s 194ms/step - loss: 0.2872 - accuracy: 0.4689 - val_loss: 0.2726 - val_accuracy: 0.4996\n",
            "Epoch 9/50\n",
            "89/89 [==============================] - 17s 194ms/step - loss: 0.2784 - accuracy: 0.4908 - val_loss: 0.2706 - val_accuracy: 0.5109\n",
            "Epoch 10/50\n",
            "89/89 [==============================] - 17s 194ms/step - loss: 0.2799 - accuracy: 0.4844 - val_loss: 0.2654 - val_accuracy: 0.5116\n",
            "Epoch 11/50\n",
            "89/89 [==============================] - 17s 193ms/step - loss: 0.2689 - accuracy: 0.5167 - val_loss: 0.2579 - val_accuracy: 0.5271\n",
            "Epoch 12/50\n",
            "89/89 [==============================] - 17s 193ms/step - loss: 0.2662 - accuracy: 0.5180 - val_loss: 0.2582 - val_accuracy: 0.5440\n",
            "Epoch 13/50\n",
            "89/89 [==============================] - 17s 194ms/step - loss: 0.2641 - accuracy: 0.5275 - val_loss: 0.2587 - val_accuracy: 0.5172\n",
            "Epoch 14/50\n",
            "89/89 [==============================] - 17s 194ms/step - loss: 0.2634 - accuracy: 0.5316 - val_loss: 0.2514 - val_accuracy: 0.5454\n",
            "Epoch 15/50\n",
            "89/89 [==============================] - 17s 195ms/step - loss: 0.2563 - accuracy: 0.5285 - val_loss: 0.2489 - val_accuracy: 0.5510\n",
            "Epoch 16/50\n",
            "89/89 [==============================] - 17s 194ms/step - loss: 0.2548 - accuracy: 0.5423 - val_loss: 0.2464 - val_accuracy: 0.5538\n",
            "Epoch 17/50\n",
            "89/89 [==============================] - 17s 194ms/step - loss: 0.2549 - accuracy: 0.5376 - val_loss: 0.2537 - val_accuracy: 0.5482\n",
            "Epoch 18/50\n",
            "89/89 [==============================] - 17s 194ms/step - loss: 0.2599 - accuracy: 0.5293 - val_loss: 0.2454 - val_accuracy: 0.5616\n",
            "Epoch 19/50\n",
            "89/89 [==============================] - 17s 193ms/step - loss: 0.2528 - accuracy: 0.5365 - val_loss: 0.2447 - val_accuracy: 0.5574\n",
            "Epoch 20/50\n",
            "89/89 [==============================] - 17s 194ms/step - loss: 0.2407 - accuracy: 0.5790 - val_loss: 0.2413 - val_accuracy: 0.5700\n",
            "Epoch 21/50\n",
            "89/89 [==============================] - 17s 193ms/step - loss: 0.2396 - accuracy: 0.5743 - val_loss: 0.2394 - val_accuracy: 0.5693\n",
            "Epoch 22/50\n",
            "89/89 [==============================] - 17s 193ms/step - loss: 0.2372 - accuracy: 0.5870 - val_loss: 0.2382 - val_accuracy: 0.5749\n",
            "Epoch 23/50\n",
            "89/89 [==============================] - 17s 194ms/step - loss: 0.2357 - accuracy: 0.5810 - val_loss: 0.2376 - val_accuracy: 0.5757\n",
            "Epoch 24/50\n",
            "89/89 [==============================] - 17s 194ms/step - loss: 0.2338 - accuracy: 0.5895 - val_loss: 0.2344 - val_accuracy: 0.5799\n",
            "Epoch 25/50\n",
            "89/89 [==============================] - 17s 193ms/step - loss: 0.2237 - accuracy: 0.6092 - val_loss: 0.2355 - val_accuracy: 0.5848\n",
            "Epoch 26/50\n",
            "89/89 [==============================] - 17s 193ms/step - loss: 0.2241 - accuracy: 0.6122 - val_loss: 0.2341 - val_accuracy: 0.5735\n",
            "Epoch 27/50\n",
            "89/89 [==============================] - 17s 194ms/step - loss: 0.2260 - accuracy: 0.6035 - val_loss: 0.2322 - val_accuracy: 0.5876\n",
            "Epoch 28/50\n",
            "89/89 [==============================] - 17s 194ms/step - loss: 0.2255 - accuracy: 0.5958 - val_loss: 0.2332 - val_accuracy: 0.5799\n",
            "Epoch 29/50\n",
            "89/89 [==============================] - 17s 195ms/step - loss: 0.2204 - accuracy: 0.6113 - val_loss: 0.2318 - val_accuracy: 0.5904\n",
            "Epoch 30/50\n",
            "89/89 [==============================] - 17s 193ms/step - loss: 0.2150 - accuracy: 0.6272 - val_loss: 0.2282 - val_accuracy: 0.5827\n",
            "Epoch 31/50\n",
            "89/89 [==============================] - 17s 193ms/step - loss: 0.2140 - accuracy: 0.6272 - val_loss: 0.2315 - val_accuracy: 0.5932\n",
            "Epoch 32/50\n",
            "89/89 [==============================] - 17s 193ms/step - loss: 0.2164 - accuracy: 0.6248 - val_loss: 0.2344 - val_accuracy: 0.5813\n",
            "Epoch 33/50\n",
            "89/89 [==============================] - 17s 193ms/step - loss: 0.2050 - accuracy: 0.6371 - val_loss: 0.2267 - val_accuracy: 0.5954\n",
            "Epoch 34/50\n",
            "89/89 [==============================] - 17s 193ms/step - loss: 0.2053 - accuracy: 0.6465 - val_loss: 0.2259 - val_accuracy: 0.5982\n",
            "Epoch 35/50\n",
            "89/89 [==============================] - 17s 194ms/step - loss: 0.2061 - accuracy: 0.6323 - val_loss: 0.2308 - val_accuracy: 0.5939\n",
            "Epoch 36/50\n",
            "89/89 [==============================] - 17s 194ms/step - loss: 0.2070 - accuracy: 0.6412 - val_loss: 0.2269 - val_accuracy: 0.5947\n",
            "Epoch 37/50\n",
            "89/89 [==============================] - 17s 193ms/step - loss: 0.2001 - accuracy: 0.6521 - val_loss: 0.2252 - val_accuracy: 0.5989\n",
            "Epoch 38/50\n",
            "89/89 [==============================] - 17s 194ms/step - loss: 0.1965 - accuracy: 0.6683 - val_loss: 0.2247 - val_accuracy: 0.5989\n",
            "Epoch 39/50\n",
            "89/89 [==============================] - 17s 194ms/step - loss: 0.2008 - accuracy: 0.6508 - val_loss: 0.2290 - val_accuracy: 0.6017\n",
            "Epoch 40/50\n",
            "89/89 [==============================] - 17s 194ms/step - loss: 0.1969 - accuracy: 0.6631 - val_loss: 0.2255 - val_accuracy: 0.6094\n",
            "Epoch 41/50\n",
            "89/89 [==============================] - 17s 194ms/step - loss: 0.1947 - accuracy: 0.6615 - val_loss: 0.2281 - val_accuracy: 0.6017\n",
            "Epoch 42/50\n",
            "89/89 [==============================] - 17s 193ms/step - loss: 0.1948 - accuracy: 0.6668 - val_loss: 0.2256 - val_accuracy: 0.6122\n",
            "Epoch 43/50\n",
            "89/89 [==============================] - 17s 194ms/step - loss: 0.1941 - accuracy: 0.6708 - val_loss: 0.2282 - val_accuracy: 0.5996\n",
            "Epoch 44/50\n",
            "89/89 [==============================] - 17s 193ms/step - loss: 0.1970 - accuracy: 0.6601 - val_loss: 0.2267 - val_accuracy: 0.5932\n",
            "Epoch 45/50\n",
            "89/89 [==============================] - 17s 193ms/step - loss: 0.1893 - accuracy: 0.6783 - val_loss: 0.2239 - val_accuracy: 0.6151\n",
            "Epoch 46/50\n",
            "89/89 [==============================] - 17s 194ms/step - loss: 0.1850 - accuracy: 0.6881 - val_loss: 0.2258 - val_accuracy: 0.6087\n",
            "Epoch 47/50\n",
            "89/89 [==============================] - 17s 193ms/step - loss: 0.1833 - accuracy: 0.6886 - val_loss: 0.2266 - val_accuracy: 0.6066\n",
            "Epoch 48/50\n",
            "89/89 [==============================] - 17s 193ms/step - loss: 0.1812 - accuracy: 0.6921 - val_loss: 0.2298 - val_accuracy: 0.6122\n",
            "Epoch 49/50\n",
            "89/89 [==============================] - 17s 193ms/step - loss: 0.1772 - accuracy: 0.6983 - val_loss: 0.2269 - val_accuracy: 0.6214\n",
            "Epoch 50/50\n",
            "89/89 [==============================] - 17s 193ms/step - loss: 0.1761 - accuracy: 0.6934 - val_loss: 0.2266 - val_accuracy: 0.6214\n"
          ],
          "name": "stdout"
        }
      ]
    },
    {
      "cell_type": "code",
      "metadata": {
        "id": "aTZ30XNG0sZE"
      },
      "source": [
        "# Load the best weights\n",
        "model.load_weights('/models/256_bilstm/best_model.h5')"
      ],
      "execution_count": null,
      "outputs": []
    },
    {
      "cell_type": "code",
      "metadata": {
        "colab": {
          "base_uri": "https://localhost:8080/"
        },
        "id": "R3iK98koRi-e",
        "outputId": "46fa4bb0-01dc-4271-c211-45d979c89193"
      },
      "source": [
        "# Evaluate the model: Accuracy - F1 score\n",
        "model.evaluate(x_val, y_val, batch_size=64)"
      ],
      "execution_count": null,
      "outputs": [
        {
          "output_type": "stream",
          "text": [
            "23/23 [==============================] - 32s 79ms/step - loss: 0.2239 - accuracy: 0.6130 - f1_metric: 0.5883\n"
          ],
          "name": "stdout"
        },
        {
          "output_type": "execute_result",
          "data": {
            "text/plain": [
              "[0.22393031418323517, 0.6150597929954529, 0.6049245595932007]"
            ]
          },
          "metadata": {
            "tags": []
          },
          "execution_count": 20
        }
      ]
    },
    {
      "cell_type": "code",
      "metadata": {
        "colab": {
          "base_uri": "https://localhost:8080/",
          "height": 295
        },
        "id": "gyyPedDdKVem",
        "outputId": "f3085327-af07-4031-badf-2b1a54cf70df"
      },
      "source": [
        "# Plot loss\n",
        "loss = history.history['loss']\n",
        "val_loss = history.history['val_loss']\n",
        "epochs = range(1, len(loss)+1)\n",
        "plt.plot(epochs, loss, label='Training loss')\n",
        "plt.plot(epochs, val_loss, label='Validation loss')\n",
        "plt.title('Training and Validation Loss')\n",
        "plt.xlabel('Epochs')\n",
        "plt.ylabel('Loss')\n",
        "plt.legend()\n",
        "#plt.show();\n",
        "plt.savefig('/models/256_bilstm/256_bilstm_loss.png')"
      ],
      "execution_count": null,
      "outputs": [
        {
          "output_type": "display_data",
          "data": {
            "image/png": "[encoded data removed]",
            "text/plain": [
              "<Figure size 432x288 with 1 Axes>"
            ]
          },
          "metadata": {
            "tags": [],
            "needs_background": "light"
          }
        }
      ]
    },
    {
      "cell_type": "code",
      "metadata": {
        "colab": {
          "base_uri": "https://localhost:8080/",
          "height": 295
        },
        "id": "cuf_YN3IKYbv",
        "outputId": "ae1c0702-2899-4a46-ac1a-4839299a7832"
      },
      "source": [
        "# Plot accuracy\n",
        "accuracy = history.history['accuracy']\n",
        "val_accuracy = history.history['val_accuracy']\n",
        "plt.plot(epochs, accuracy, label='Training accuracy')\n",
        "plt.plot(epochs, val_accuracy, label='Validation accuracy')\n",
        "plt.title('Training and Validation Accuracy')\n",
        "plt.ylabel('Accuracy')\n",
        "plt.xlabel('Epochs')\n",
        "plt.legend()\n",
        "#plt.show();\n",
        "plt.savefig('/models/256_bilstm/256_bilstm_accuracy.png')"
      ],
      "execution_count": null,
      "outputs": [
        {
          "output_type": "display_data",
          "data": {
            "image/png": "[encoded data removed]",
            "text/plain": [
              "<Figure size 432x288 with 1 Axes>"
            ]
          },
          "metadata": {
            "tags": [],
            "needs_background": "light"
          }
        }
      ]
    },
    {
      "cell_type": "code",
      "metadata": {
        "id": "L1W4KTTGKeBh"
      },
      "source": [
        "# Save history\n",
        "with open('/models/256_bilstm/256_bilstm_trainHistoryDict', 'wb') as file_pi:\n",
        "    pickle.dump(history.history, file_pi)"
      ],
      "execution_count": null,
      "outputs": []
    },
    {
      "cell_type": "code",
      "metadata": {
        "id": "IvyUgD3klEup"
      },
      "source": [
        "#history = pickle.load(open('/models/256_bilstm/256_bilstm_trainHistoryDict'), \"rb\")"
      ],
      "execution_count": null,
      "outputs": []
    },
    {
      "cell_type": "markdown",
      "metadata": {
        "id": "3SVPw5y73wzL"
      },
      "source": [
        "## 1.1. 256 LSTM Target"
      ]
    },
    {
      "cell_type": "code",
      "metadata": {
        "colab": {
          "base_uri": "https://localhost:8080/"
        },
        "id": "kY2DKG4N3wzV",
        "outputId": "76854a81-5b5b-4640-fab9-c8723ed719db"
      },
      "source": [
        "# Load GloVe word embedding\n",
        "embeddings_index = {}\n",
        "embedding_path = \"/embeddings/target_glove.txt\"\n",
        "f = open(embedding_path)\n",
        "print('Loading GloVe from:', embedding_path, '...', end='')\n",
        "for line in f:\n",
        "    values = line.split()\n",
        "    word = values[0]\n",
        "    embeddings_index[word] = np.asarray(values[1:], dtype='float32')\n",
        "f.close()\n",
        "print(\"Done.\\n Proceeding with Embedding Matrix...\", end=\"\")\n",
        "np.random.seed(10)\n",
        "embedding_matrix = np.random.random((len(word_index) + 1, 100))\n",
        "for word, i in word_index.items():\n",
        "    embedding_vector = embeddings_index.get(word)\n",
        "    if embedding_vector is not None:\n",
        "        embedding_matrix[i] = embedding_vector\n",
        "print(\" Completed!\")"
      ],
      "execution_count": null,
      "outputs": [
        {
          "output_type": "stream",
          "text": [
            "Loading GloVe from: /content/drive/MyDrive/embeddings/target_glove.txt ...Done.\n",
            " Proceeding with Embedding Matrix... Completed!\n"
          ],
          "name": "stdout"
        }
      ]
    },
    {
      "cell_type": "code",
      "metadata": {
        "id": "zwLMCSV43wzW"
      },
      "source": [
        "# Configure the model\n",
        "sequence_input = Input(shape=(1000,), dtype='int32')\n",
        "embedding_layer = Embedding(len(word_index) + 1,\n",
        "                           100,\n",
        "                           weights = [embedding_matrix],\n",
        "                           input_length = 1000,\n",
        "                           trainable=False,\n",
        "                           name = 'embeddings')\n",
        "embedded_sequences = embedding_layer(sequence_input)\n",
        "x = LSTM(256, return_sequences=True,name='lstm_layer')(embedded_sequences)\n",
        "x = GlobalMaxPool1D()(x)\n",
        "x = Dropout(0.5)(x)\n",
        "x = Dense(128, activation=\"relu\")(x)\n",
        "x = Dropout(0.5)(x)\n",
        "preds = Dense(8, activation=\"softmax\")(x)"
      ],
      "execution_count": null,
      "outputs": []
    },
    {
      "cell_type": "code",
      "metadata": {
        "id": "9kylw4_ySu0X"
      },
      "source": [
        "# Compile the model\n",
        "model = Model(sequence_input, preds)\n",
        "model.compile(loss = 'binary_crossentropy',\n",
        "             optimizer='adam',\n",
        "             metrics = ['accuracy', f1_metric])"
      ],
      "execution_count": null,
      "outputs": []
    },
    {
      "cell_type": "code",
      "metadata": {
        "colab": {
          "base_uri": "https://localhost:8080/"
        },
        "id": "fpcHdkQ-3wzX",
        "outputId": "b23dbbb6-0830-4148-edb8-98ff79d55a3f"
      },
      "source": [
        "model.summary()"
      ],
      "execution_count": null,
      "outputs": [
        {
          "output_type": "stream",
          "text": [
            "Model: \"model\"\n",
            "_________________________________________________________________\n",
            "Layer (type)                 Output Shape              Param #   \n",
            "=================================================================\n",
            "input_1 (InputLayer)         [(None, 1000)]            0         \n",
            "_________________________________________________________________\n",
            "embeddings (Embedding)       (None, 1000, 100)         28100     \n",
            "_________________________________________________________________\n",
            "lstm_layer (LSTM)            (None, 1000, 256)         365568    \n",
            "_________________________________________________________________\n",
            "global_max_pooling1d (Global (None, 256)               0         \n",
            "_________________________________________________________________\n",
            "dropout (Dropout)            (None, 256)               0         \n",
            "_________________________________________________________________\n",
            "dense (Dense)                (None, 128)               32896     \n",
            "_________________________________________________________________\n",
            "dropout_1 (Dropout)          (None, 128)               0         \n",
            "_________________________________________________________________\n",
            "dense_1 (Dense)              (None, 8)                 1032      \n",
            "=================================================================\n",
            "Total params: 427,596\n",
            "Trainable params: 399,496\n",
            "Non-trainable params: 28,100\n",
            "_________________________________________________________________\n"
          ],
          "name": "stdout"
        }
      ]
    },
    {
      "cell_type": "code",
      "metadata": {
        "id": "W6iXOORl3wzX"
      },
      "source": [
        "# Add callback & early stopping\n",
        "overfitCallback = [EarlyStopping(monitor='val_loss', min_delta=0, patience=10),\n",
        "         ModelCheckpoint(filepath='/models/256_lstm/best_model.h5', monitor='val_loss', save_best_only=True)]"
      ],
      "execution_count": null,
      "outputs": []
    },
    {
      "cell_type": "code",
      "metadata": {
        "colab": {
          "base_uri": "https://localhost:8080/"
        },
        "id": "ms9idqg_3wzX",
        "outputId": "f51a563b-e3f9-4a75-e365-79ac52797892"
      },
      "source": [
        "# Train the model\n",
        "print('Training progress:')\n",
        "history = model.fit(x_train, y_train, epochs = 50, batch_size=64, validation_data=(x_val, y_val), callbacks=[overfitCallback])"
      ],
      "execution_count": null,
      "outputs": [
        {
          "output_type": "stream",
          "text": [
            "Training progress:\n",
            "Epoch 1/50\n",
            "89/89 [==============================] - 41s 98ms/step - loss: 0.4514 - accuracy: 0.1388 - val_loss: 0.3579 - val_accuracy: 0.2519\n",
            "Epoch 2/50\n",
            "89/89 [==============================] - 8s 91ms/step - loss: 0.3728 - accuracy: 0.2350 - val_loss: 0.3383 - val_accuracy: 0.3118\n",
            "Epoch 3/50\n",
            "89/89 [==============================] - 8s 92ms/step - loss: 0.3500 - accuracy: 0.2941 - val_loss: 0.3230 - val_accuracy: 0.3631\n",
            "Epoch 4/50\n",
            "89/89 [==============================] - 8s 94ms/step - loss: 0.3345 - accuracy: 0.3366 - val_loss: 0.3118 - val_accuracy: 0.4068\n",
            "Epoch 5/50\n",
            "89/89 [==============================] - 8s 94ms/step - loss: 0.3237 - accuracy: 0.3692 - val_loss: 0.2990 - val_accuracy: 0.4307\n",
            "Epoch 6/50\n",
            "89/89 [==============================] - 8s 96ms/step - loss: 0.3184 - accuracy: 0.3897 - val_loss: 0.3057 - val_accuracy: 0.4328\n",
            "Epoch 7/50\n",
            "89/89 [==============================] - 9s 96ms/step - loss: 0.3140 - accuracy: 0.3985 - val_loss: 0.2923 - val_accuracy: 0.4602\n",
            "Epoch 8/50\n",
            "89/89 [==============================] - 9s 96ms/step - loss: 0.3053 - accuracy: 0.4260 - val_loss: 0.2846 - val_accuracy: 0.4821\n",
            "Epoch 9/50\n",
            "89/89 [==============================] - 9s 97ms/step - loss: 0.2975 - accuracy: 0.4457 - val_loss: 0.2764 - val_accuracy: 0.4954\n",
            "Epoch 10/50\n",
            "89/89 [==============================] - 9s 97ms/step - loss: 0.2913 - accuracy: 0.4489 - val_loss: 0.2743 - val_accuracy: 0.5137\n",
            "Epoch 11/50\n",
            "89/89 [==============================] - 9s 98ms/step - loss: 0.2852 - accuracy: 0.4705 - val_loss: 0.2687 - val_accuracy: 0.5264\n",
            "Epoch 12/50\n",
            "89/89 [==============================] - 9s 97ms/step - loss: 0.2808 - accuracy: 0.4820 - val_loss: 0.2669 - val_accuracy: 0.5236\n",
            "Epoch 13/50\n",
            "89/89 [==============================] - 9s 96ms/step - loss: 0.2767 - accuracy: 0.4873 - val_loss: 0.2665 - val_accuracy: 0.4968\n",
            "Epoch 14/50\n",
            "89/89 [==============================] - 9s 96ms/step - loss: 0.2725 - accuracy: 0.5037 - val_loss: 0.2599 - val_accuracy: 0.5299\n",
            "Epoch 15/50\n",
            "89/89 [==============================] - 9s 96ms/step - loss: 0.2692 - accuracy: 0.5097 - val_loss: 0.2580 - val_accuracy: 0.5447\n",
            "Epoch 16/50\n",
            "89/89 [==============================] - 9s 97ms/step - loss: 0.2698 - accuracy: 0.5043 - val_loss: 0.2549 - val_accuracy: 0.5475\n",
            "Epoch 17/50\n",
            "89/89 [==============================] - 9s 97ms/step - loss: 0.2652 - accuracy: 0.5104 - val_loss: 0.2528 - val_accuracy: 0.5341\n",
            "Epoch 18/50\n",
            "89/89 [==============================] - 9s 96ms/step - loss: 0.2594 - accuracy: 0.5146 - val_loss: 0.2527 - val_accuracy: 0.5419\n",
            "Epoch 19/50\n",
            "89/89 [==============================] - 9s 97ms/step - loss: 0.2597 - accuracy: 0.5180 - val_loss: 0.2499 - val_accuracy: 0.5433\n",
            "Epoch 20/50\n",
            "89/89 [==============================] - 9s 96ms/step - loss: 0.2588 - accuracy: 0.5133 - val_loss: 0.2511 - val_accuracy: 0.5447\n",
            "Epoch 21/50\n",
            "89/89 [==============================] - 9s 97ms/step - loss: 0.2537 - accuracy: 0.5352 - val_loss: 0.2498 - val_accuracy: 0.5623\n",
            "Epoch 22/50\n",
            "89/89 [==============================] - 9s 97ms/step - loss: 0.2554 - accuracy: 0.5405 - val_loss: 0.2420 - val_accuracy: 0.5728\n",
            "Epoch 23/50\n",
            "89/89 [==============================] - 9s 97ms/step - loss: 0.2497 - accuracy: 0.5451 - val_loss: 0.2454 - val_accuracy: 0.5630\n",
            "Epoch 24/50\n",
            "89/89 [==============================] - 9s 96ms/step - loss: 0.2467 - accuracy: 0.5606 - val_loss: 0.2442 - val_accuracy: 0.5693\n",
            "Epoch 25/50\n",
            "89/89 [==============================] - 9s 96ms/step - loss: 0.2471 - accuracy: 0.5573 - val_loss: 0.2420 - val_accuracy: 0.5707\n",
            "Epoch 26/50\n",
            "89/89 [==============================] - 9s 96ms/step - loss: 0.2372 - accuracy: 0.5737 - val_loss: 0.2417 - val_accuracy: 0.5665\n",
            "Epoch 27/50\n",
            "89/89 [==============================] - 9s 96ms/step - loss: 0.2440 - accuracy: 0.5687 - val_loss: 0.2395 - val_accuracy: 0.5679\n",
            "Epoch 28/50\n",
            "89/89 [==============================] - 9s 97ms/step - loss: 0.2415 - accuracy: 0.5676 - val_loss: 0.2392 - val_accuracy: 0.5672\n",
            "Epoch 29/50\n",
            "89/89 [==============================] - 9s 96ms/step - loss: 0.2435 - accuracy: 0.5611 - val_loss: 0.2394 - val_accuracy: 0.5707\n",
            "Epoch 30/50\n",
            "89/89 [==============================] - 9s 96ms/step - loss: 0.2349 - accuracy: 0.5765 - val_loss: 0.2332 - val_accuracy: 0.5834\n",
            "Epoch 31/50\n",
            "89/89 [==============================] - 9s 97ms/step - loss: 0.2322 - accuracy: 0.5907 - val_loss: 0.2332 - val_accuracy: 0.5785\n",
            "Epoch 32/50\n",
            "89/89 [==============================] - 9s 97ms/step - loss: 0.2249 - accuracy: 0.5989 - val_loss: 0.2356 - val_accuracy: 0.5778\n",
            "Epoch 33/50\n",
            "89/89 [==============================] - 9s 97ms/step - loss: 0.2284 - accuracy: 0.5944 - val_loss: 0.2347 - val_accuracy: 0.5764\n",
            "Epoch 34/50\n",
            "89/89 [==============================] - 9s 97ms/step - loss: 0.2243 - accuracy: 0.6044 - val_loss: 0.2343 - val_accuracy: 0.5820\n",
            "Epoch 35/50\n",
            "89/89 [==============================] - 9s 97ms/step - loss: 0.2264 - accuracy: 0.5950 - val_loss: 0.2339 - val_accuracy: 0.5785\n",
            "Epoch 36/50\n",
            "89/89 [==============================] - 9s 97ms/step - loss: 0.2294 - accuracy: 0.6009 - val_loss: 0.2337 - val_accuracy: 0.5890\n",
            "Epoch 37/50\n",
            "89/89 [==============================] - 9s 97ms/step - loss: 0.2259 - accuracy: 0.6084 - val_loss: 0.2313 - val_accuracy: 0.5925\n",
            "Epoch 38/50\n",
            "89/89 [==============================] - 9s 97ms/step - loss: 0.2254 - accuracy: 0.6074 - val_loss: 0.2305 - val_accuracy: 0.5785\n",
            "Epoch 39/50\n",
            "89/89 [==============================] - 9s 96ms/step - loss: 0.2145 - accuracy: 0.6291 - val_loss: 0.2273 - val_accuracy: 0.5932\n",
            "Epoch 40/50\n",
            "89/89 [==============================] - 9s 96ms/step - loss: 0.2142 - accuracy: 0.6251 - val_loss: 0.2320 - val_accuracy: 0.5820\n",
            "Epoch 41/50\n",
            "89/89 [==============================] - 9s 97ms/step - loss: 0.2139 - accuracy: 0.6302 - val_loss: 0.2275 - val_accuracy: 0.5947\n",
            "Epoch 42/50\n",
            "89/89 [==============================] - 9s 96ms/step - loss: 0.2111 - accuracy: 0.6212 - val_loss: 0.2264 - val_accuracy: 0.5975\n",
            "Epoch 43/50\n",
            "89/89 [==============================] - 9s 96ms/step - loss: 0.2111 - accuracy: 0.6305 - val_loss: 0.2263 - val_accuracy: 0.5961\n",
            "Epoch 44/50\n",
            "89/89 [==============================] - 9s 97ms/step - loss: 0.2142 - accuracy: 0.6305 - val_loss: 0.2295 - val_accuracy: 0.5827\n",
            "Epoch 45/50\n",
            "89/89 [==============================] - 9s 96ms/step - loss: 0.2051 - accuracy: 0.6446 - val_loss: 0.2268 - val_accuracy: 0.5947\n",
            "Epoch 46/50\n",
            "89/89 [==============================] - 9s 97ms/step - loss: 0.2069 - accuracy: 0.6388 - val_loss: 0.2284 - val_accuracy: 0.5862\n",
            "Epoch 47/50\n",
            "89/89 [==============================] - 9s 97ms/step - loss: 0.2062 - accuracy: 0.6372 - val_loss: 0.2298 - val_accuracy: 0.6038\n",
            "Epoch 48/50\n",
            "89/89 [==============================] - 9s 97ms/step - loss: 0.1951 - accuracy: 0.6612 - val_loss: 0.2283 - val_accuracy: 0.5947\n",
            "Epoch 49/50\n",
            "89/89 [==============================] - 9s 97ms/step - loss: 0.1958 - accuracy: 0.6668 - val_loss: 0.2287 - val_accuracy: 0.6031\n",
            "Epoch 50/50\n",
            "89/89 [==============================] - 9s 97ms/step - loss: 0.1984 - accuracy: 0.6530 - val_loss: 0.2280 - val_accuracy: 0.5968\n"
          ],
          "name": "stdout"
        }
      ]
    },
    {
      "cell_type": "code",
      "metadata": {
        "id": "UGzkeAQh3wzY"
      },
      "source": [
        "# Load the best weights\n",
        "model.load_weights('/models/256_lstm/best_model.h5')"
      ],
      "execution_count": null,
      "outputs": []
    },
    {
      "cell_type": "code",
      "metadata": {
        "colab": {
          "base_uri": "https://localhost:8080/"
        },
        "id": "8Rb7c743S2PI",
        "outputId": "c25f0a8d-93fe-4f84-cf49-b0dcb3a22716"
      },
      "source": [
        "# Evaluate the model: Accuracy - F1 score\n",
        "model.evaluate(x_val, y_val, batch_size=64)"
      ],
      "execution_count": null,
      "outputs": [
        {
          "output_type": "stream",
          "text": [
            "23/23 [==============================] - 31s 43ms/step - loss: 0.2281 - accuracy: 0.5828 - f1_metric: 0.5635\n"
          ],
          "name": "stdout"
        },
        {
          "output_type": "execute_result",
          "data": {
            "text/plain": [
              "[0.22628629207611084, 0.5960590839385986, 0.5823948383331299]"
            ]
          },
          "metadata": {
            "tags": []
          },
          "execution_count": 21
        }
      ]
    },
    {
      "cell_type": "code",
      "metadata": {
        "colab": {
          "base_uri": "https://localhost:8080/",
          "height": 295
        },
        "id": "PcRpdRyC3wzY",
        "outputId": "f20499df-4638-44c5-b195-5f201a4b0fda"
      },
      "source": [
        "# Plot loss\n",
        "loss = history.history['loss']\n",
        "val_loss = history.history['val_loss']\n",
        "epochs = range(1, len(loss)+1)\n",
        "plt.plot(epochs, loss, label='Training loss')\n",
        "plt.plot(epochs, val_loss, label='Validation loss')\n",
        "plt.title('Training and Validation Loss')\n",
        "plt.xlabel('Epochs')\n",
        "plt.ylabel('Loss')\n",
        "plt.legend()\n",
        "#plt.show();\n",
        "plt.savefig('/models/256_lstm/256_lstm_loss.png')"
      ],
      "execution_count": null,
      "outputs": [
        {
          "output_type": "display_data",
          "data": {
            "image/png": "[encoded data removed]",
            "text/plain": [
              "<Figure size 432x288 with 1 Axes>"
            ]
          },
          "metadata": {
            "tags": [],
            "needs_background": "light"
          }
        }
      ]
    },
    {
      "cell_type": "code",
      "metadata": {
        "colab": {
          "base_uri": "https://localhost:8080/",
          "height": 295
        },
        "id": "V7OhCN1c3wzY",
        "outputId": "2a91e3e2-0fb2-421b-cf8f-997f08942514"
      },
      "source": [
        "# Plot accuracy\n",
        "accuracy = history.history['accuracy']\n",
        "val_accuracy = history.history['val_accuracy']\n",
        "plt.plot(epochs, accuracy, label='Training accuracy')\n",
        "plt.plot(epochs, val_accuracy, label='Validation accuracy')\n",
        "plt.title('Training and Validation Accuracy')\n",
        "plt.ylabel('Accuracy')\n",
        "plt.xlabel('Epochs')\n",
        "plt.legend()\n",
        "#plt.show();\n",
        "plt.savefig('/models/256_lstm/256_lstm_accuracy.png')"
      ],
      "execution_count": null,
      "outputs": [
        {
          "output_type": "display_data",
          "data": {
            "image/png": "[encoded data removed]",
            "text/plain": [
              "<Figure size 432x288 with 1 Axes>"
            ]
          },
          "metadata": {
            "tags": [],
            "needs_background": "light"
          }
        }
      ]
    },
    {
      "cell_type": "code",
      "metadata": {
        "id": "dxXKpoDF3wzZ"
      },
      "source": [
        "# Save history\n",
        "with open('/models/256_lstm/256_lstm_trainHistoryDict', 'wb') as file_pi:\n",
        "    pickle.dump(history.history, file_pi)"
      ],
      "execution_count": null,
      "outputs": []
    },
    {
      "cell_type": "code",
      "metadata": {
        "id": "H20qC8Kx3wzZ"
      },
      "source": [
        "#history = pickle.load(open('/models/256_lstm/256_lstm_trainHistoryDict'), \"rb\")"
      ],
      "execution_count": null,
      "outputs": []
    },
    {
      "cell_type": "markdown",
      "metadata": {
        "id": "tGi0pU3aJs2H"
      },
      "source": [
        "## 2. 256 BiLSTM TF"
      ]
    },
    {
      "cell_type": "code",
      "metadata": {
        "colab": {
          "base_uri": "https://localhost:8080/"
        },
        "id": "mIZ3EQVWDjS9",
        "outputId": "3ae8aac2-da6f-4ac0-c488-65ea774e576e"
      },
      "source": [
        "# Load GloVe word embedding\n",
        "embeddings_index = {}\n",
        "embedding_path = \"/embeddings/source_glove.txt\"\n",
        "f = open(embedding_path)\n",
        "print('Loading GloVe from:', embedding_path, '...', end='')\n",
        "for line in f:\n",
        "    values = line.split()\n",
        "    word = values[0]\n",
        "    embeddings_index[word] = np.asarray(values[1:], dtype='float32')\n",
        "f.close()\n",
        "print(\"Done.\\n Proceeding with Embedding Matrix...\", end=\"\")\n",
        "np.random.seed(10)\n",
        "embedding_matrix = np.random.random((len(word_index) + 1, 100))\n",
        "for word, i in word_index.items():\n",
        "    embedding_vector = embeddings_index.get(word)\n",
        "    if embedding_vector is not None:\n",
        "        embedding_matrix[i] = embedding_vector\n",
        "print(\" Completed!\")"
      ],
      "execution_count": null,
      "outputs": [
        {
          "output_type": "stream",
          "text": [
            "Loading GloVe from: /content/drive/MyDrive/embeddings/source_glove.txt ...Done.\n",
            " Proceeding with Embedding Matrix... Completed!\n"
          ],
          "name": "stdout"
        }
      ]
    },
    {
      "cell_type": "code",
      "metadata": {
        "id": "TNwFwifZDjez"
      },
      "source": [
        "# Configure the model\n",
        "sequence_input = Input(shape=(1000,), dtype='int32')\n",
        "embedding_layer = Embedding(len(word_index) + 1,\n",
        "                           100,\n",
        "                           weights = [embedding_matrix],\n",
        "                           input_length = 1000,\n",
        "                           trainable=False,\n",
        "                           name = 'embeddings')\n",
        "embedded_sequences = embedding_layer(sequence_input)\n",
        "x = Bidirectional(LSTM(256, return_sequences=True,name='lstm_layer'))(embedded_sequences)\n",
        "x = GlobalMaxPool1D()(x)\n",
        "x = Dropout(0.5)(x)\n",
        "x = Dense(128, activation=\"relu\")(x)\n",
        "x = Dropout(0.5)(x)\n",
        "preds = Dense(8, activation=\"softmax\")(x)"
      ],
      "execution_count": null,
      "outputs": []
    },
    {
      "cell_type": "code",
      "metadata": {
        "id": "aiq6DLiXUV0W"
      },
      "source": [
        "# Compile the model\n",
        "model = Model(sequence_input, preds)\n",
        "model.compile(loss = 'binary_crossentropy',\n",
        "             optimizer='adam',\n",
        "             metrics = ['accuracy', f1_metric])"
      ],
      "execution_count": null,
      "outputs": []
    },
    {
      "cell_type": "code",
      "metadata": {
        "colab": {
          "base_uri": "https://localhost:8080/"
        },
        "id": "bs2Ukj0vDjoD",
        "outputId": "d87fd562-b9bf-46a5-f151-9b89bd4a6713"
      },
      "source": [
        "model.summary()"
      ],
      "execution_count": null,
      "outputs": [
        {
          "output_type": "stream",
          "text": [
            "Model: \"model\"\n",
            "_________________________________________________________________\n",
            "Layer (type)                 Output Shape              Param #   \n",
            "=================================================================\n",
            "input_1 (InputLayer)         [(None, 1000)]            0         \n",
            "_________________________________________________________________\n",
            "embeddings (Embedding)       (None, 1000, 100)         28100     \n",
            "_________________________________________________________________\n",
            "bidirectional (Bidirectional (None, 1000, 512)         731136    \n",
            "_________________________________________________________________\n",
            "global_max_pooling1d (Global (None, 512)               0         \n",
            "_________________________________________________________________\n",
            "dropout (Dropout)            (None, 512)               0         \n",
            "_________________________________________________________________\n",
            "dense (Dense)                (None, 128)               65664     \n",
            "_________________________________________________________________\n",
            "dropout_1 (Dropout)          (None, 128)               0         \n",
            "_________________________________________________________________\n",
            "dense_1 (Dense)              (None, 8)                 1032      \n",
            "=================================================================\n",
            "Total params: 825,932\n",
            "Trainable params: 797,832\n",
            "Non-trainable params: 28,100\n",
            "_________________________________________________________________\n"
          ],
          "name": "stdout"
        }
      ]
    },
    {
      "cell_type": "code",
      "metadata": {
        "id": "NiNjnKW31XFX"
      },
      "source": [
        "# Add callback & early stopping\n",
        "overfitCallback = [EarlyStopping(monitor='val_loss', min_delta=0, patience=10),\n",
        "         ModelCheckpoint(filepath='/models/tf/best_model.h5', monitor='val_loss', save_best_only=True)]"
      ],
      "execution_count": null,
      "outputs": []
    },
    {
      "cell_type": "code",
      "metadata": {
        "colab": {
          "base_uri": "https://localhost:8080/"
        },
        "id": "2pmEcFXlDjrM",
        "outputId": "666984f9-6425-48d1-9d08-787e482542b8"
      },
      "source": [
        "# Train the model\n",
        "print('Training progress:')\n",
        "history = model.fit(x_train, y_train, epochs = 50, batch_size=64, validation_data=(x_val, y_val), callbacks=[overfitCallback])"
      ],
      "execution_count": null,
      "outputs": [
        {
          "output_type": "stream",
          "text": [
            "Training progress:\n",
            "Epoch 1/50\n",
            "89/89 [==============================] - 53s 209ms/step - loss: 0.4369 - accuracy: 0.1438 - val_loss: 0.3558 - val_accuracy: 0.2723\n",
            "Epoch 2/50\n",
            "89/89 [==============================] - 17s 191ms/step - loss: 0.3712 - accuracy: 0.2262 - val_loss: 0.3395 - val_accuracy: 0.3322\n",
            "Epoch 3/50\n",
            "89/89 [==============================] - 17s 195ms/step - loss: 0.3506 - accuracy: 0.2943 - val_loss: 0.3260 - val_accuracy: 0.3251\n",
            "Epoch 4/50\n",
            "89/89 [==============================] - 18s 199ms/step - loss: 0.3353 - accuracy: 0.3239 - val_loss: 0.3152 - val_accuracy: 0.3575\n",
            "Epoch 5/50\n",
            "89/89 [==============================] - 17s 196ms/step - loss: 0.3306 - accuracy: 0.3374 - val_loss: 0.3122 - val_accuracy: 0.4011\n",
            "Epoch 6/50\n",
            "89/89 [==============================] - 17s 195ms/step - loss: 0.3230 - accuracy: 0.3627 - val_loss: 0.3045 - val_accuracy: 0.3983\n",
            "Epoch 7/50\n",
            "89/89 [==============================] - 17s 194ms/step - loss: 0.3128 - accuracy: 0.3849 - val_loss: 0.3012 - val_accuracy: 0.4243\n",
            "Epoch 8/50\n",
            "89/89 [==============================] - 17s 195ms/step - loss: 0.3111 - accuracy: 0.3930 - val_loss: 0.2923 - val_accuracy: 0.4342\n",
            "Epoch 9/50\n",
            "89/89 [==============================] - 17s 195ms/step - loss: 0.3057 - accuracy: 0.4036 - val_loss: 0.2895 - val_accuracy: 0.4624\n",
            "Epoch 10/50\n",
            "89/89 [==============================] - 17s 195ms/step - loss: 0.2982 - accuracy: 0.4286 - val_loss: 0.2831 - val_accuracy: 0.4638\n",
            "Epoch 11/50\n",
            "89/89 [==============================] - 18s 201ms/step - loss: 0.2986 - accuracy: 0.4320 - val_loss: 0.2835 - val_accuracy: 0.4638\n",
            "Epoch 12/50\n",
            "89/89 [==============================] - 17s 195ms/step - loss: 0.2889 - accuracy: 0.4523 - val_loss: 0.2758 - val_accuracy: 0.4856\n",
            "Epoch 13/50\n",
            "89/89 [==============================] - 17s 195ms/step - loss: 0.2864 - accuracy: 0.4680 - val_loss: 0.2762 - val_accuracy: 0.4905\n",
            "Epoch 14/50\n",
            "89/89 [==============================] - 17s 195ms/step - loss: 0.2878 - accuracy: 0.4602 - val_loss: 0.2725 - val_accuracy: 0.4926\n",
            "Epoch 15/50\n",
            "89/89 [==============================] - 17s 194ms/step - loss: 0.2837 - accuracy: 0.4661 - val_loss: 0.2709 - val_accuracy: 0.4954\n",
            "Epoch 16/50\n",
            "89/89 [==============================] - 17s 194ms/step - loss: 0.2793 - accuracy: 0.4797 - val_loss: 0.2643 - val_accuracy: 0.5130\n",
            "Epoch 17/50\n",
            "89/89 [==============================] - 17s 194ms/step - loss: 0.2735 - accuracy: 0.4958 - val_loss: 0.2679 - val_accuracy: 0.5158\n",
            "Epoch 18/50\n",
            "89/89 [==============================] - 17s 194ms/step - loss: 0.2759 - accuracy: 0.4916 - val_loss: 0.2645 - val_accuracy: 0.5144\n",
            "Epoch 19/50\n",
            "89/89 [==============================] - 17s 194ms/step - loss: 0.2716 - accuracy: 0.5079 - val_loss: 0.2597 - val_accuracy: 0.5194\n",
            "Epoch 20/50\n",
            "89/89 [==============================] - 17s 195ms/step - loss: 0.2704 - accuracy: 0.5030 - val_loss: 0.2594 - val_accuracy: 0.5201\n",
            "Epoch 21/50\n",
            "89/89 [==============================] - 17s 195ms/step - loss: 0.2654 - accuracy: 0.5079 - val_loss: 0.2595 - val_accuracy: 0.5208\n",
            "Epoch 22/50\n",
            "89/89 [==============================] - 17s 194ms/step - loss: 0.2648 - accuracy: 0.5134 - val_loss: 0.2556 - val_accuracy: 0.5292\n",
            "Epoch 23/50\n",
            "89/89 [==============================] - 17s 194ms/step - loss: 0.2641 - accuracy: 0.5106 - val_loss: 0.2510 - val_accuracy: 0.5489\n",
            "Epoch 24/50\n",
            "89/89 [==============================] - 17s 195ms/step - loss: 0.2579 - accuracy: 0.5340 - val_loss: 0.2551 - val_accuracy: 0.5362\n",
            "Epoch 25/50\n",
            "89/89 [==============================] - 17s 195ms/step - loss: 0.2580 - accuracy: 0.5276 - val_loss: 0.2554 - val_accuracy: 0.5278\n",
            "Epoch 26/50\n",
            "89/89 [==============================] - 17s 193ms/step - loss: 0.2539 - accuracy: 0.5353 - val_loss: 0.2490 - val_accuracy: 0.5461\n",
            "Epoch 27/50\n",
            "89/89 [==============================] - 17s 194ms/step - loss: 0.2523 - accuracy: 0.5333 - val_loss: 0.2499 - val_accuracy: 0.5306\n",
            "Epoch 28/50\n",
            "89/89 [==============================] - 17s 193ms/step - loss: 0.2448 - accuracy: 0.5699 - val_loss: 0.2504 - val_accuracy: 0.5461\n",
            "Epoch 29/50\n",
            "89/89 [==============================] - 17s 193ms/step - loss: 0.2486 - accuracy: 0.5477 - val_loss: 0.2520 - val_accuracy: 0.5419\n",
            "Epoch 30/50\n",
            "89/89 [==============================] - 17s 195ms/step - loss: 0.2457 - accuracy: 0.5575 - val_loss: 0.2504 - val_accuracy: 0.5405\n",
            "Epoch 31/50\n",
            "89/89 [==============================] - 17s 195ms/step - loss: 0.2509 - accuracy: 0.5471 - val_loss: 0.2480 - val_accuracy: 0.5510\n",
            "Epoch 32/50\n",
            "89/89 [==============================] - 17s 194ms/step - loss: 0.2423 - accuracy: 0.5657 - val_loss: 0.2448 - val_accuracy: 0.5482\n",
            "Epoch 33/50\n",
            "89/89 [==============================] - 17s 195ms/step - loss: 0.2400 - accuracy: 0.5646 - val_loss: 0.2421 - val_accuracy: 0.5602\n",
            "Epoch 34/50\n",
            "89/89 [==============================] - 17s 195ms/step - loss: 0.2431 - accuracy: 0.5707 - val_loss: 0.2467 - val_accuracy: 0.5447\n",
            "Epoch 35/50\n",
            "89/89 [==============================] - 17s 195ms/step - loss: 0.2452 - accuracy: 0.5612 - val_loss: 0.2443 - val_accuracy: 0.5567\n",
            "Epoch 36/50\n",
            "89/89 [==============================] - 17s 195ms/step - loss: 0.2359 - accuracy: 0.5851 - val_loss: 0.2421 - val_accuracy: 0.5637\n",
            "Epoch 37/50\n",
            "89/89 [==============================] - 17s 193ms/step - loss: 0.2358 - accuracy: 0.5785 - val_loss: 0.2392 - val_accuracy: 0.5665\n",
            "Epoch 38/50\n",
            "89/89 [==============================] - 17s 194ms/step - loss: 0.2311 - accuracy: 0.6046 - val_loss: 0.2383 - val_accuracy: 0.5651\n",
            "Epoch 39/50\n",
            "89/89 [==============================] - 17s 194ms/step - loss: 0.2317 - accuracy: 0.5884 - val_loss: 0.2409 - val_accuracy: 0.5595\n",
            "Epoch 40/50\n",
            "89/89 [==============================] - 18s 199ms/step - loss: 0.2334 - accuracy: 0.5914 - val_loss: 0.2390 - val_accuracy: 0.5602\n",
            "Epoch 41/50\n",
            "89/89 [==============================] - 17s 195ms/step - loss: 0.2305 - accuracy: 0.5875 - val_loss: 0.2373 - val_accuracy: 0.5686\n",
            "Epoch 42/50\n",
            "89/89 [==============================] - 17s 195ms/step - loss: 0.2298 - accuracy: 0.5951 - val_loss: 0.2358 - val_accuracy: 0.5778\n",
            "Epoch 43/50\n",
            "89/89 [==============================] - 17s 195ms/step - loss: 0.2258 - accuracy: 0.5991 - val_loss: 0.2369 - val_accuracy: 0.5700\n",
            "Epoch 44/50\n",
            "89/89 [==============================] - 17s 195ms/step - loss: 0.2215 - accuracy: 0.6047 - val_loss: 0.2382 - val_accuracy: 0.5588\n",
            "Epoch 45/50\n",
            "89/89 [==============================] - 17s 195ms/step - loss: 0.2233 - accuracy: 0.6006 - val_loss: 0.2378 - val_accuracy: 0.5721\n",
            "Epoch 46/50\n",
            "89/89 [==============================] - 17s 195ms/step - loss: 0.2205 - accuracy: 0.6084 - val_loss: 0.2352 - val_accuracy: 0.5792\n",
            "Epoch 47/50\n",
            "89/89 [==============================] - 17s 195ms/step - loss: 0.2240 - accuracy: 0.6047 - val_loss: 0.2382 - val_accuracy: 0.5672\n",
            "Epoch 48/50\n",
            "89/89 [==============================] - 17s 194ms/step - loss: 0.2239 - accuracy: 0.6064 - val_loss: 0.2315 - val_accuracy: 0.5869\n",
            "Epoch 49/50\n",
            "89/89 [==============================] - 17s 194ms/step - loss: 0.2160 - accuracy: 0.6119 - val_loss: 0.2387 - val_accuracy: 0.5813\n",
            "Epoch 50/50\n",
            "89/89 [==============================] - 17s 194ms/step - loss: 0.2138 - accuracy: 0.6311 - val_loss: 0.2367 - val_accuracy: 0.5813\n"
          ],
          "name": "stdout"
        }
      ]
    },
    {
      "cell_type": "code",
      "metadata": {
        "id": "KPZA0zN01egC"
      },
      "source": [
        "# Load the best weights\n",
        "model.load_weights('/models/tf/best_model.h5')"
      ],
      "execution_count": null,
      "outputs": []
    },
    {
      "cell_type": "code",
      "metadata": {
        "colab": {
          "base_uri": "https://localhost:8080/"
        },
        "id": "jJ54fpu9UaSL",
        "outputId": "13fc9f6d-c741-4f65-8e6a-d955036ee2d6"
      },
      "source": [
        "# Evaluate the model: Accuracy - F1 score\n",
        "model.evaluate(x_val, y_val, batch_size=64)"
      ],
      "execution_count": null,
      "outputs": [
        {
          "output_type": "stream",
          "text": [
            "23/23 [==============================] - 2s 72ms/step - loss: 0.2315 - accuracy: 0.5869 - f1_metric: 0.5729\n"
          ],
          "name": "stdout"
        },
        {
          "output_type": "execute_result",
          "data": {
            "text/plain": [
              "[0.23145951330661774, 0.586910605430603, 0.5728511810302734]"
            ]
          },
          "metadata": {
            "tags": []
          },
          "execution_count": 21
        }
      ]
    },
    {
      "cell_type": "code",
      "metadata": {
        "colab": {
          "base_uri": "https://localhost:8080/",
          "height": 295
        },
        "id": "aofCJ3jHDjxv",
        "outputId": "5b657a76-464c-4aff-a7e6-52a0a4652588"
      },
      "source": [
        "# Plot loss\n",
        "loss = history.history['loss']\n",
        "val_loss = history.history['val_loss']\n",
        "epochs = range(1, len(loss)+1)\n",
        "plt.plot(epochs, loss, label='Training loss')\n",
        "plt.plot(epochs, val_loss, label='Validation loss')\n",
        "plt.title('Training and Validation Loss')\n",
        "plt.xlabel('Epochs')\n",
        "plt.ylabel('Loss')\n",
        "plt.legend()\n",
        "#plt.show();\n",
        "plt.savefig('/models/tf/tf_loss.png')"
      ],
      "execution_count": null,
      "outputs": [
        {
          "output_type": "display_data",
          "data": {
            "image/png": "[encoded data removed]",
            "text/plain": [
              "<Figure size 432x288 with 1 Axes>"
            ]
          },
          "metadata": {
            "tags": [],
            "needs_background": "light"
          }
        }
      ]
    },
    {
      "cell_type": "code",
      "metadata": {
        "id": "CtzfLOW-Sk_y",
        "colab": {
          "base_uri": "https://localhost:8080/",
          "height": 295
        },
        "outputId": "134d235b-ce2f-43d7-ef52-7ee7c7361427"
      },
      "source": [
        "# Plot accuracy\n",
        "accuracy = history.history['accuracy']\n",
        "val_accuracy = history.history['val_accuracy']\n",
        "plt.plot(epochs, accuracy, label='Training accuracy')\n",
        "plt.plot(epochs, val_accuracy, label='Validation accuracy')\n",
        "plt.title('Training and Validation Accuracy')\n",
        "plt.ylabel('Accuracy')\n",
        "plt.xlabel('Epochs')\n",
        "plt.legend()\n",
        "#plt.show();\n",
        "plt.savefig('/models/tf/tf_accuracy.png')"
      ],
      "execution_count": null,
      "outputs": [
        {
          "output_type": "display_data",
          "data": {
            "image/png": "[encoded data removed]",
            "text/plain": [
              "<Figure size 432x288 with 1 Axes>"
            ]
          },
          "metadata": {
            "tags": [],
            "needs_background": "light"
          }
        }
      ]
    },
    {
      "cell_type": "code",
      "metadata": {
        "id": "XuzEgRkgEIel"
      },
      "source": [
        "# Save history\n",
        "with open('/models/tf/tf_trainHistoryDict', 'wb') as file_pi:\n",
        "    pickle.dump(history.history, file_pi)"
      ],
      "execution_count": null,
      "outputs": []
    },
    {
      "cell_type": "markdown",
      "metadata": {
        "id": "XpPau0QXYgT9"
      },
      "source": [
        "## 3. 256 BiLSTM TF - Fine-tuned"
      ]
    },
    {
      "cell_type": "code",
      "metadata": {
        "colab": {
          "base_uri": "https://localhost:8080/"
        },
        "id": "aUfhUcDRYgUB",
        "outputId": "38784786-aef3-4ce1-8578-b99f94554b89"
      },
      "source": [
        "# Load GloVe word embedding\n",
        "embeddings_index = {}\n",
        "embedding_path = \"/embeddings/tf_finetuned_glove.txt\"\n",
        "f = open(embedding_path)\n",
        "print('Loading GloVe from:', embedding_path, '...', end='')\n",
        "for line in f:\n",
        "    values = line.split()\n",
        "    word = values[0]\n",
        "    embeddings_index[word] = np.asarray(values[1:], dtype='float32')\n",
        "f.close()\n",
        "print(\"Done.\\n Proceeding with Embedding Matrix...\", end=\"\")\n",
        "np.random.seed(10)\n",
        "embedding_matrix = np.random.random((len(word_index) + 1, 100))\n",
        "for word, i in word_index.items():\n",
        "    embedding_vector = embeddings_index.get(word)\n",
        "    if embedding_vector is not None:\n",
        "        embedding_matrix[i] = embedding_vector\n",
        "print(\" Completed!\")"
      ],
      "execution_count": null,
      "outputs": [
        {
          "output_type": "stream",
          "text": [
            "Loading GloVe from: /content/drive/MyDrive/embeddings/tf_finetuned_glove.txt ...Done.\n",
            " Proceeding with Embedding Matrix... Completed!\n"
          ],
          "name": "stdout"
        }
      ]
    },
    {
      "cell_type": "code",
      "metadata": {
        "id": "qzW_Cy_-YgUC"
      },
      "source": [
        "# Configure the model\n",
        "sequence_input = Input(shape=(1000,), dtype='int32')\n",
        "embedding_layer = Embedding(len(word_index) + 1,\n",
        "                           100,\n",
        "                           weights = [embedding_matrix],\n",
        "                           input_length = 1000,\n",
        "                           trainable=False,\n",
        "                           name = 'embeddings')\n",
        "embedded_sequences = embedding_layer(sequence_input)\n",
        "x = Bidirectional(LSTM(256, return_sequences=True,name='lstm_layer'))(embedded_sequences)\n",
        "x = GlobalMaxPool1D()(x)\n",
        "x = Dropout(0.5)(x)\n",
        "x = Dense(128, activation=\"relu\")(x)\n",
        "x = Dropout(0.5)(x)\n",
        "preds = Dense(8, activation=\"softmax\")(x)"
      ],
      "execution_count": null,
      "outputs": []
    },
    {
      "cell_type": "code",
      "metadata": {
        "id": "BP76R2_aVp6d"
      },
      "source": [
        "# Compile the model\n",
        "model = Model(sequence_input, preds)\n",
        "model.compile(loss = 'binary_crossentropy',\n",
        "             optimizer='adam',\n",
        "             metrics = ['accuracy', f1_metric])"
      ],
      "execution_count": null,
      "outputs": []
    },
    {
      "cell_type": "code",
      "metadata": {
        "colab": {
          "base_uri": "https://localhost:8080/"
        },
        "id": "NsIDaetGYgUC",
        "outputId": "0808661d-1507-482f-86db-b63a33e4197a"
      },
      "source": [
        "model.summary()"
      ],
      "execution_count": null,
      "outputs": [
        {
          "output_type": "stream",
          "text": [
            "Model: \"model\"\n",
            "_________________________________________________________________\n",
            "Layer (type)                 Output Shape              Param #   \n",
            "=================================================================\n",
            "input_1 (InputLayer)         [(None, 1000)]            0         \n",
            "_________________________________________________________________\n",
            "embeddings (Embedding)       (None, 1000, 100)         28100     \n",
            "_________________________________________________________________\n",
            "bidirectional (Bidirectional (None, 1000, 512)         731136    \n",
            "_________________________________________________________________\n",
            "global_max_pooling1d (Global (None, 512)               0         \n",
            "_________________________________________________________________\n",
            "dropout (Dropout)            (None, 512)               0         \n",
            "_________________________________________________________________\n",
            "dense (Dense)                (None, 128)               65664     \n",
            "_________________________________________________________________\n",
            "dropout_1 (Dropout)          (None, 128)               0         \n",
            "_________________________________________________________________\n",
            "dense_1 (Dense)              (None, 8)                 1032      \n",
            "=================================================================\n",
            "Total params: 825,932\n",
            "Trainable params: 797,832\n",
            "Non-trainable params: 28,100\n",
            "_________________________________________________________________\n"
          ],
          "name": "stdout"
        }
      ]
    },
    {
      "cell_type": "code",
      "metadata": {
        "id": "I5THZbzeYgUC"
      },
      "source": [
        "# Add callback & early stopping\n",
        "overfitCallback = [EarlyStopping(monitor='val_loss', min_delta=0, patience=10),\n",
        "         ModelCheckpoint(filepath='/models/tf_finetune/best_model.h5', monitor='val_loss', save_best_only=True)]"
      ],
      "execution_count": null,
      "outputs": []
    },
    {
      "cell_type": "code",
      "metadata": {
        "colab": {
          "base_uri": "https://localhost:8080/"
        },
        "id": "3_Fy-U8-YgUD",
        "outputId": "6c07e3b5-6619-472b-cd54-becd591aa147"
      },
      "source": [
        "# Train the model\n",
        "print('Training progress:')\n",
        "history = model.fit(x_train, y_train, epochs = 50, batch_size=64, validation_data=(x_val, y_val), callbacks=[overfitCallback])"
      ],
      "execution_count": null,
      "outputs": [
        {
          "output_type": "stream",
          "text": [
            "Training progress:\n",
            "Epoch 1/50\n",
            "89/89 [==============================] - 86s 585ms/step - loss: 0.4427 - accuracy: 0.1545 - val_loss: 0.3486 - val_accuracy: 0.2738\n",
            "Epoch 2/50\n",
            "89/89 [==============================] - 50s 563ms/step - loss: 0.3617 - accuracy: 0.2554 - val_loss: 0.3316 - val_accuracy: 0.2942\n",
            "Epoch 3/50\n",
            "89/89 [==============================] - 50s 559ms/step - loss: 0.3440 - accuracy: 0.3131 - val_loss: 0.3120 - val_accuracy: 0.3899\n",
            "Epoch 4/50\n",
            "89/89 [==============================] - 50s 559ms/step - loss: 0.3318 - accuracy: 0.3422 - val_loss: 0.3030 - val_accuracy: 0.4286\n",
            "Epoch 5/50\n",
            "89/89 [==============================] - 50s 562ms/step - loss: 0.3206 - accuracy: 0.3751 - val_loss: 0.2973 - val_accuracy: 0.4483\n",
            "Epoch 6/50\n",
            "89/89 [==============================] - 50s 559ms/step - loss: 0.3083 - accuracy: 0.4141 - val_loss: 0.2882 - val_accuracy: 0.4645\n",
            "Epoch 7/50\n",
            "89/89 [==============================] - 50s 560ms/step - loss: 0.3016 - accuracy: 0.4193 - val_loss: 0.2838 - val_accuracy: 0.4659\n",
            "Epoch 8/50\n",
            "89/89 [==============================] - 50s 563ms/step - loss: 0.2973 - accuracy: 0.4396 - val_loss: 0.2791 - val_accuracy: 0.4835\n",
            "Epoch 9/50\n",
            "89/89 [==============================] - 50s 560ms/step - loss: 0.2879 - accuracy: 0.4555 - val_loss: 0.2726 - val_accuracy: 0.5025\n",
            "Epoch 10/50\n",
            "89/89 [==============================] - 50s 561ms/step - loss: 0.2856 - accuracy: 0.4689 - val_loss: 0.2707 - val_accuracy: 0.5074\n",
            "Epoch 11/50\n",
            "89/89 [==============================] - 50s 564ms/step - loss: 0.2813 - accuracy: 0.4766 - val_loss: 0.2682 - val_accuracy: 0.5081\n",
            "Epoch 12/50\n",
            "89/89 [==============================] - 50s 559ms/step - loss: 0.2765 - accuracy: 0.4961 - val_loss: 0.2685 - val_accuracy: 0.4729\n",
            "Epoch 13/50\n",
            "89/89 [==============================] - 50s 558ms/step - loss: 0.2726 - accuracy: 0.4953 - val_loss: 0.2611 - val_accuracy: 0.5215\n",
            "Epoch 14/50\n",
            "89/89 [==============================] - 50s 561ms/step - loss: 0.2701 - accuracy: 0.5070 - val_loss: 0.2616 - val_accuracy: 0.5144\n",
            "Epoch 15/50\n",
            "89/89 [==============================] - 50s 559ms/step - loss: 0.2680 - accuracy: 0.5139 - val_loss: 0.2586 - val_accuracy: 0.5194\n",
            "Epoch 16/50\n",
            "89/89 [==============================] - 50s 558ms/step - loss: 0.2653 - accuracy: 0.5216 - val_loss: 0.2553 - val_accuracy: 0.5215\n",
            "Epoch 17/50\n",
            "89/89 [==============================] - 50s 559ms/step - loss: 0.2598 - accuracy: 0.5294 - val_loss: 0.2526 - val_accuracy: 0.5369\n",
            "Epoch 18/50\n",
            "89/89 [==============================] - 50s 561ms/step - loss: 0.2585 - accuracy: 0.5288 - val_loss: 0.2508 - val_accuracy: 0.5384\n",
            "Epoch 19/50\n",
            "89/89 [==============================] - 50s 559ms/step - loss: 0.2513 - accuracy: 0.5472 - val_loss: 0.2489 - val_accuracy: 0.5419\n",
            "Epoch 20/50\n",
            "89/89 [==============================] - 50s 563ms/step - loss: 0.2586 - accuracy: 0.5282 - val_loss: 0.2488 - val_accuracy: 0.5398\n",
            "Epoch 21/50\n",
            "89/89 [==============================] - 50s 566ms/step - loss: 0.2511 - accuracy: 0.5525 - val_loss: 0.2480 - val_accuracy: 0.5475\n",
            "Epoch 22/50\n",
            "89/89 [==============================] - 50s 564ms/step - loss: 0.2499 - accuracy: 0.5492 - val_loss: 0.2457 - val_accuracy: 0.5391\n",
            "Epoch 23/50\n",
            "89/89 [==============================] - 50s 563ms/step - loss: 0.2449 - accuracy: 0.5647 - val_loss: 0.2452 - val_accuracy: 0.5567\n",
            "Epoch 24/50\n",
            "89/89 [==============================] - 50s 567ms/step - loss: 0.2420 - accuracy: 0.5645 - val_loss: 0.2449 - val_accuracy: 0.5468\n",
            "Epoch 25/50\n",
            "89/89 [==============================] - 50s 563ms/step - loss: 0.2441 - accuracy: 0.5569 - val_loss: 0.2413 - val_accuracy: 0.5468\n",
            "Epoch 26/50\n",
            "89/89 [==============================] - 50s 563ms/step - loss: 0.2427 - accuracy: 0.5631 - val_loss: 0.2432 - val_accuracy: 0.5524\n",
            "Epoch 27/50\n",
            "89/89 [==============================] - 50s 567ms/step - loss: 0.2391 - accuracy: 0.5744 - val_loss: 0.2390 - val_accuracy: 0.5693\n",
            "Epoch 28/50\n",
            "89/89 [==============================] - 50s 564ms/step - loss: 0.2314 - accuracy: 0.5901 - val_loss: 0.2425 - val_accuracy: 0.5644\n",
            "Epoch 29/50\n",
            "89/89 [==============================] - 50s 563ms/step - loss: 0.2370 - accuracy: 0.5716 - val_loss: 0.2361 - val_accuracy: 0.5602\n",
            "Epoch 30/50\n",
            "89/89 [==============================] - 50s 566ms/step - loss: 0.2257 - accuracy: 0.5956 - val_loss: 0.2373 - val_accuracy: 0.5552\n",
            "Epoch 31/50\n",
            "89/89 [==============================] - 50s 563ms/step - loss: 0.2337 - accuracy: 0.5835 - val_loss: 0.2363 - val_accuracy: 0.5679\n",
            "Epoch 32/50\n",
            "89/89 [==============================] - 50s 564ms/step - loss: 0.2265 - accuracy: 0.5960 - val_loss: 0.2337 - val_accuracy: 0.5785\n",
            "Epoch 33/50\n",
            "89/89 [==============================] - 50s 567ms/step - loss: 0.2231 - accuracy: 0.6083 - val_loss: 0.2352 - val_accuracy: 0.5651\n",
            "Epoch 34/50\n",
            "89/89 [==============================] - 50s 563ms/step - loss: 0.2241 - accuracy: 0.6006 - val_loss: 0.2309 - val_accuracy: 0.5792\n",
            "Epoch 35/50\n",
            "89/89 [==============================] - 50s 562ms/step - loss: 0.2200 - accuracy: 0.6158 - val_loss: 0.2313 - val_accuracy: 0.5764\n",
            "Epoch 36/50\n",
            "89/89 [==============================] - 50s 566ms/step - loss: 0.2198 - accuracy: 0.6142 - val_loss: 0.2339 - val_accuracy: 0.5742\n",
            "Epoch 37/50\n",
            "89/89 [==============================] - 50s 563ms/step - loss: 0.2172 - accuracy: 0.6111 - val_loss: 0.2322 - val_accuracy: 0.5869\n",
            "Epoch 38/50\n",
            "89/89 [==============================] - 50s 563ms/step - loss: 0.2144 - accuracy: 0.6271 - val_loss: 0.2276 - val_accuracy: 0.5799\n",
            "Epoch 39/50\n",
            "89/89 [==============================] - 50s 567ms/step - loss: 0.2147 - accuracy: 0.6267 - val_loss: 0.2266 - val_accuracy: 0.5883\n",
            "Epoch 40/50\n",
            "89/89 [==============================] - 50s 563ms/step - loss: 0.2133 - accuracy: 0.6341 - val_loss: 0.2271 - val_accuracy: 0.5897\n",
            "Epoch 41/50\n",
            "89/89 [==============================] - 50s 564ms/step - loss: 0.2110 - accuracy: 0.6201 - val_loss: 0.2253 - val_accuracy: 0.5897\n",
            "Epoch 42/50\n",
            "89/89 [==============================] - 50s 566ms/step - loss: 0.2094 - accuracy: 0.6296 - val_loss: 0.2268 - val_accuracy: 0.5876\n",
            "Epoch 43/50\n",
            "89/89 [==============================] - 50s 562ms/step - loss: 0.2050 - accuracy: 0.6346 - val_loss: 0.2247 - val_accuracy: 0.5968\n",
            "Epoch 44/50\n",
            "89/89 [==============================] - 50s 562ms/step - loss: 0.2085 - accuracy: 0.6368 - val_loss: 0.2261 - val_accuracy: 0.5890\n",
            "Epoch 45/50\n",
            "89/89 [==============================] - 50s 564ms/step - loss: 0.2010 - accuracy: 0.6503 - val_loss: 0.2236 - val_accuracy: 0.5954\n",
            "Epoch 46/50\n",
            "89/89 [==============================] - 50s 562ms/step - loss: 0.2011 - accuracy: 0.6439 - val_loss: 0.2259 - val_accuracy: 0.5947\n",
            "Epoch 47/50\n",
            "89/89 [==============================] - 50s 563ms/step - loss: 0.1967 - accuracy: 0.6621 - val_loss: 0.2240 - val_accuracy: 0.6003\n",
            "Epoch 48/50\n",
            "89/89 [==============================] - 50s 566ms/step - loss: 0.1959 - accuracy: 0.6637 - val_loss: 0.2254 - val_accuracy: 0.5968\n",
            "Epoch 49/50\n",
            "89/89 [==============================] - 50s 563ms/step - loss: 0.1932 - accuracy: 0.6679 - val_loss: 0.2215 - val_accuracy: 0.6066\n",
            "Epoch 50/50\n",
            "89/89 [==============================] - 50s 563ms/step - loss: 0.1942 - accuracy: 0.6561 - val_loss: 0.2226 - val_accuracy: 0.6010\n"
          ],
          "name": "stdout"
        }
      ]
    },
    {
      "cell_type": "code",
      "metadata": {
        "id": "7zc_aJ74YgUD"
      },
      "source": [
        "# Load the best weights\n",
        "model.load_weights('/models/tf_finetune/best_model.h5')"
      ],
      "execution_count": null,
      "outputs": []
    },
    {
      "cell_type": "code",
      "metadata": {
        "colab": {
          "base_uri": "https://localhost:8080/"
        },
        "id": "iaWiZdH6Vtm9",
        "outputId": "4a40e294-54d4-4772-c426-416f84a4f942"
      },
      "source": [
        "# Evaluate the model: Accuracy - F1 score\n",
        "model.evaluate(x_val, y_val, batch_size=64)"
      ],
      "execution_count": null,
      "outputs": [
        {
          "output_type": "stream",
          "text": [
            "23/23 [==============================] - 34s 70ms/step - loss: 0.2236 - accuracy: 0.5890 - f1_metric: 0.5851\n"
          ],
          "name": "stdout"
        },
        {
          "output_type": "execute_result",
          "data": {
            "text/plain": [
              "[0.2215270847082138, 0.6066150665283203, 0.6012930870056152]"
            ]
          },
          "metadata": {
            "tags": []
          },
          "execution_count": 20
        }
      ]
    },
    {
      "cell_type": "code",
      "metadata": {
        "colab": {
          "base_uri": "https://localhost:8080/"
        },
        "id": "rmWsHbuiYgUE",
        "outputId": "99bca4af-2925-408d-8285-bc967bf03410"
      },
      "source": [
        "# Plot loss\n",
        "loss = history.history['loss']\n",
        "val_loss = history.history['val_loss']\n",
        "epochs = range(1, len(loss)+1)\n",
        "plt.plot(epochs, loss, label='Training loss')\n",
        "plt.plot(epochs, val_loss, label='Validation loss')\n",
        "plt.title('Training and Validation Loss')\n",
        "plt.xlabel('Epochs')\n",
        "plt.ylabel('Loss')\n",
        "plt.legend()\n",
        "#plt.show();\n",
        "plt.savefig('/models/tf_finetune/tf_finetune_loss.png')"
      ],
      "execution_count": null,
      "outputs": [
        {
          "output_type": "display_data",
          "data": {
            "image/png": "[encoded data removed]",
            "text/plain": [
              "<Figure size 432x288 with 1 Axes>"
            ]
          },
          "metadata": {
            "tags": [],
            "needs_background": "light"
          }
        }
      ]
    },
    {
      "cell_type": "code",
      "metadata": {
        "colab": {
          "base_uri": "https://localhost:8080/"
        },
        "id": "JepXC-rSYgUE",
        "outputId": "44cd09d7-1324-4965-abf2-364c8e7cc019"
      },
      "source": [
        "# Plot accuracy\n",
        "accuracy = history.history['accuracy']\n",
        "val_accuracy = history.history['val_accuracy']\n",
        "plt.plot(epochs, accuracy, label='Training accuracy')\n",
        "plt.plot(epochs, val_accuracy, label='Validation accuracy')\n",
        "plt.title('Training and Validation Accuracy')\n",
        "plt.ylabel('Accuracy')\n",
        "plt.xlabel('Epochs')\n",
        "plt.legend()\n",
        "#plt.show();\n",
        "plt.savefig('/models/tf_finetune/tf_finetune_accuracy.png')"
      ],
      "execution_count": null,
      "outputs": [
        {
          "output_type": "display_data",
          "data": {
            "image/png": "[encoded data removed]",
            "text/plain": [
              "<Figure size 432x288 with 1 Axes>"
            ]
          },
          "metadata": {
            "tags": [],
            "needs_background": "light"
          }
        }
      ]
    },
    {
      "cell_type": "code",
      "metadata": {
        "id": "O1UQW8yoYgUE"
      },
      "source": [
        "# Save history\n",
        "with open('/models/tf_finetune/tf_finetune_trainHistoryDict', 'wb') as file_pi:\n",
        "    pickle.dump(history.history, file_pi)"
      ],
      "execution_count": null,
      "outputs": []
    },
    {
      "cell_type": "markdown",
      "metadata": {
        "id": "z1bhIgt1HV4B"
      },
      "source": [
        "## Epoch Experiment"
      ]
    },
    {
      "cell_type": "code",
      "metadata": {
        "id": "PvcdS0DKVNvu"
      },
      "source": [
        "# Configure the model\n",
        "sequence_input = Input(shape=(1000,), dtype='int32')\n",
        "embedding_layer = Embedding(len(word_index) + 1,\n",
        "                           100,\n",
        "                           weights = [embedding_matrix],\n",
        "                           input_length = 1000,\n",
        "                           trainable=False,\n",
        "                           name = 'embeddings')\n",
        "embedded_sequences = embedding_layer(sequence_input)\n",
        "x = Bidirectional(LSTM(256, return_sequences=True,name='lstm_layer'))(embedded_sequences)\n",
        "x = GlobalMaxPool1D()(x)\n",
        "x = Dropout(0.5)(x)\n",
        "x = Dense(128, activation=\"relu\")(x)\n",
        "x = Dropout(0.5)(x)\n",
        "preds = Dense(8, activation=\"softmax\")(x)"
      ],
      "execution_count": null,
      "outputs": []
    },
    {
      "cell_type": "code",
      "metadata": {
        "id": "6adc5v9vH_Ce"
      },
      "source": [
        "# Compile the model\n",
        "model = Model(sequence_input, preds)\n",
        "model.compile(loss = 'binary_crossentropy',\n",
        "             optimizer='adam',\n",
        "             metrics = ['accuracy'])"
      ],
      "execution_count": null,
      "outputs": []
    },
    {
      "cell_type": "code",
      "metadata": {
        "colab": {
          "base_uri": "https://localhost:8080/"
        },
        "id": "FD5CBS_jVtYe",
        "outputId": "11137546-f25c-4b74-c787-ed26119ed046"
      },
      "source": [
        "# Train the model\n",
        "print('Training progress:')\n",
        "history = model.fit(x_train, y_train, epochs = 200, batch_size=64, validation_data=(x_val, y_val))"
      ],
      "execution_count": null,
      "outputs": [
        {
          "output_type": "stream",
          "text": [
            "Training progress:\n",
            "Epoch 1/200\n",
            "89/89 [==============================] - 51s 199ms/step - loss: 0.4266 - accuracy: 0.1637 - val_loss: 0.3382 - val_accuracy: 0.3462\n",
            "Epoch 2/200\n",
            "89/89 [==============================] - 16s 179ms/step - loss: 0.3620 - accuracy: 0.2670 - val_loss: 0.3212 - val_accuracy: 0.3990\n",
            "Epoch 3/200\n",
            "89/89 [==============================] - 16s 179ms/step - loss: 0.3433 - accuracy: 0.3269 - val_loss: 0.3109 - val_accuracy: 0.4229\n",
            "Epoch 4/200\n",
            "89/89 [==============================] - 16s 179ms/step - loss: 0.3293 - accuracy: 0.3618 - val_loss: 0.2987 - val_accuracy: 0.4426\n",
            "Epoch 5/200\n",
            "89/89 [==============================] - 16s 181ms/step - loss: 0.3118 - accuracy: 0.4118 - val_loss: 0.2903 - val_accuracy: 0.4743\n",
            "Epoch 6/200\n",
            "89/89 [==============================] - 16s 181ms/step - loss: 0.3018 - accuracy: 0.4331 - val_loss: 0.2854 - val_accuracy: 0.4933\n",
            "Epoch 7/200\n",
            "89/89 [==============================] - 16s 182ms/step - loss: 0.2931 - accuracy: 0.4523 - val_loss: 0.2776 - val_accuracy: 0.5039\n",
            "Epoch 8/200\n",
            "89/89 [==============================] - 16s 184ms/step - loss: 0.2868 - accuracy: 0.4656 - val_loss: 0.2749 - val_accuracy: 0.5046\n",
            "Epoch 9/200\n",
            "89/89 [==============================] - 16s 184ms/step - loss: 0.2786 - accuracy: 0.4880 - val_loss: 0.2704 - val_accuracy: 0.5088\n",
            "Epoch 10/200\n",
            "89/89 [==============================] - 16s 185ms/step - loss: 0.2723 - accuracy: 0.4949 - val_loss: 0.2690 - val_accuracy: 0.5081\n",
            "Epoch 11/200\n",
            "89/89 [==============================] - 17s 186ms/step - loss: 0.2739 - accuracy: 0.4986 - val_loss: 0.2660 - val_accuracy: 0.5236\n",
            "Epoch 12/200\n",
            "89/89 [==============================] - 17s 187ms/step - loss: 0.2677 - accuracy: 0.5061 - val_loss: 0.2620 - val_accuracy: 0.5229\n",
            "Epoch 13/200\n",
            "89/89 [==============================] - 17s 187ms/step - loss: 0.2579 - accuracy: 0.5270 - val_loss: 0.2607 - val_accuracy: 0.5384\n",
            "Epoch 14/200\n",
            "89/89 [==============================] - 17s 188ms/step - loss: 0.2610 - accuracy: 0.5170 - val_loss: 0.2603 - val_accuracy: 0.5250\n",
            "Epoch 15/200\n",
            "89/89 [==============================] - 17s 189ms/step - loss: 0.2565 - accuracy: 0.5306 - val_loss: 0.2556 - val_accuracy: 0.5369\n",
            "Epoch 16/200\n",
            "89/89 [==============================] - 17s 188ms/step - loss: 0.2470 - accuracy: 0.5503 - val_loss: 0.2539 - val_accuracy: 0.5475\n",
            "Epoch 17/200\n",
            "89/89 [==============================] - 17s 188ms/step - loss: 0.2474 - accuracy: 0.5578 - val_loss: 0.2516 - val_accuracy: 0.5461\n",
            "Epoch 18/200\n",
            "89/89 [==============================] - 17s 188ms/step - loss: 0.2420 - accuracy: 0.5655 - val_loss: 0.2578 - val_accuracy: 0.5306\n",
            "Epoch 19/200\n",
            "89/89 [==============================] - 17s 188ms/step - loss: 0.2487 - accuracy: 0.5484 - val_loss: 0.2491 - val_accuracy: 0.5468\n",
            "Epoch 20/200\n",
            "89/89 [==============================] - 17s 188ms/step - loss: 0.2361 - accuracy: 0.5663 - val_loss: 0.2494 - val_accuracy: 0.5503\n",
            "Epoch 21/200\n",
            "89/89 [==============================] - 17s 188ms/step - loss: 0.2382 - accuracy: 0.5707 - val_loss: 0.2486 - val_accuracy: 0.5679\n",
            "Epoch 22/200\n",
            "89/89 [==============================] - 17s 187ms/step - loss: 0.2318 - accuracy: 0.5883 - val_loss: 0.2487 - val_accuracy: 0.5538\n",
            "Epoch 23/200\n",
            "89/89 [==============================] - 17s 188ms/step - loss: 0.2311 - accuracy: 0.5816 - val_loss: 0.2452 - val_accuracy: 0.5602\n",
            "Epoch 24/200\n",
            "89/89 [==============================] - 17s 188ms/step - loss: 0.2269 - accuracy: 0.5932 - val_loss: 0.2427 - val_accuracy: 0.5644\n",
            "Epoch 25/200\n",
            "89/89 [==============================] - 17s 188ms/step - loss: 0.2197 - accuracy: 0.6070 - val_loss: 0.2463 - val_accuracy: 0.5623\n",
            "Epoch 26/200\n",
            "89/89 [==============================] - 17s 188ms/step - loss: 0.2176 - accuracy: 0.6222 - val_loss: 0.2423 - val_accuracy: 0.5728\n",
            "Epoch 27/200\n",
            "89/89 [==============================] - 17s 187ms/step - loss: 0.2139 - accuracy: 0.6242 - val_loss: 0.2435 - val_accuracy: 0.5700\n",
            "Epoch 28/200\n",
            "89/89 [==============================] - 17s 188ms/step - loss: 0.2204 - accuracy: 0.6050 - val_loss: 0.2424 - val_accuracy: 0.5693\n",
            "Epoch 29/200\n",
            "89/89 [==============================] - 17s 188ms/step - loss: 0.2146 - accuracy: 0.6183 - val_loss: 0.2410 - val_accuracy: 0.5778\n",
            "Epoch 30/200\n",
            "89/89 [==============================] - 17s 188ms/step - loss: 0.2100 - accuracy: 0.6417 - val_loss: 0.2396 - val_accuracy: 0.5848\n",
            "Epoch 31/200\n",
            "89/89 [==============================] - 17s 188ms/step - loss: 0.2073 - accuracy: 0.6310 - val_loss: 0.2438 - val_accuracy: 0.5609\n",
            "Epoch 32/200\n",
            "89/89 [==============================] - 17s 188ms/step - loss: 0.2097 - accuracy: 0.6327 - val_loss: 0.2420 - val_accuracy: 0.5834\n",
            "Epoch 33/200\n",
            "89/89 [==============================] - 17s 188ms/step - loss: 0.1999 - accuracy: 0.6587 - val_loss: 0.2406 - val_accuracy: 0.5749\n",
            "Epoch 34/200\n",
            "89/89 [==============================] - 17s 188ms/step - loss: 0.1992 - accuracy: 0.6531 - val_loss: 0.2419 - val_accuracy: 0.5721\n",
            "Epoch 35/200\n",
            "89/89 [==============================] - 17s 188ms/step - loss: 0.1995 - accuracy: 0.6512 - val_loss: 0.2432 - val_accuracy: 0.5778\n",
            "Epoch 36/200\n",
            "89/89 [==============================] - 17s 188ms/step - loss: 0.2015 - accuracy: 0.6460 - val_loss: 0.2456 - val_accuracy: 0.5672\n",
            "Epoch 37/200\n",
            "89/89 [==============================] - 17s 188ms/step - loss: 0.2019 - accuracy: 0.6500 - val_loss: 0.2464 - val_accuracy: 0.5721\n",
            "Epoch 38/200\n",
            "89/89 [==============================] - 17s 188ms/step - loss: 0.1925 - accuracy: 0.6656 - val_loss: 0.2406 - val_accuracy: 0.5771\n",
            "Epoch 39/200\n",
            "89/89 [==============================] - 17s 188ms/step - loss: 0.1970 - accuracy: 0.6573 - val_loss: 0.2415 - val_accuracy: 0.5834\n",
            "Epoch 40/200\n",
            "89/89 [==============================] - 17s 188ms/step - loss: 0.1868 - accuracy: 0.6773 - val_loss: 0.2462 - val_accuracy: 0.5771\n",
            "Epoch 41/200\n",
            "89/89 [==============================] - 17s 188ms/step - loss: 0.1874 - accuracy: 0.6785 - val_loss: 0.2402 - val_accuracy: 0.5883\n",
            "Epoch 42/200\n",
            "89/89 [==============================] - 17s 188ms/step - loss: 0.1859 - accuracy: 0.6839 - val_loss: 0.2469 - val_accuracy: 0.5785\n",
            "Epoch 43/200\n",
            "89/89 [==============================] - 17s 188ms/step - loss: 0.1900 - accuracy: 0.6659 - val_loss: 0.2408 - val_accuracy: 0.5813\n",
            "Epoch 44/200\n",
            "89/89 [==============================] - 17s 188ms/step - loss: 0.1809 - accuracy: 0.7016 - val_loss: 0.2456 - val_accuracy: 0.5742\n",
            "Epoch 45/200\n",
            "89/89 [==============================] - 17s 188ms/step - loss: 0.1808 - accuracy: 0.6828 - val_loss: 0.2404 - val_accuracy: 0.5932\n",
            "Epoch 46/200\n",
            "89/89 [==============================] - 17s 188ms/step - loss: 0.1812 - accuracy: 0.6941 - val_loss: 0.2387 - val_accuracy: 0.5947\n",
            "Epoch 47/200\n",
            "89/89 [==============================] - 17s 189ms/step - loss: 0.1801 - accuracy: 0.6901 - val_loss: 0.2453 - val_accuracy: 0.5932\n",
            "Epoch 48/200\n",
            "89/89 [==============================] - 17s 189ms/step - loss: 0.1741 - accuracy: 0.7021 - val_loss: 0.2414 - val_accuracy: 0.5827\n",
            "Epoch 49/200\n",
            "89/89 [==============================] - 17s 188ms/step - loss: 0.1771 - accuracy: 0.6895 - val_loss: 0.2406 - val_accuracy: 0.5827\n",
            "Epoch 50/200\n",
            "89/89 [==============================] - 17s 188ms/step - loss: 0.1733 - accuracy: 0.7118 - val_loss: 0.2460 - val_accuracy: 0.5841\n",
            "Epoch 51/200\n",
            "89/89 [==============================] - 17s 188ms/step - loss: 0.1677 - accuracy: 0.7242 - val_loss: 0.2419 - val_accuracy: 0.5968\n",
            "Epoch 52/200\n",
            "89/89 [==============================] - 17s 188ms/step - loss: 0.1627 - accuracy: 0.7195 - val_loss: 0.2393 - val_accuracy: 0.6038\n",
            "Epoch 53/200\n",
            "89/89 [==============================] - 17s 188ms/step - loss: 0.1673 - accuracy: 0.7115 - val_loss: 0.2473 - val_accuracy: 0.5820\n",
            "Epoch 54/200\n",
            "89/89 [==============================] - 17s 188ms/step - loss: 0.1687 - accuracy: 0.7102 - val_loss: 0.2506 - val_accuracy: 0.5827\n",
            "Epoch 55/200\n",
            "89/89 [==============================] - 17s 188ms/step - loss: 0.1631 - accuracy: 0.7334 - val_loss: 0.2520 - val_accuracy: 0.5925\n",
            "Epoch 56/200\n",
            "89/89 [==============================] - 17s 188ms/step - loss: 0.1614 - accuracy: 0.7285 - val_loss: 0.2491 - val_accuracy: 0.5876\n",
            "Epoch 57/200\n",
            "89/89 [==============================] - 17s 187ms/step - loss: 0.1602 - accuracy: 0.7349 - val_loss: 0.2449 - val_accuracy: 0.5975\n",
            "Epoch 58/200\n",
            "89/89 [==============================] - 17s 188ms/step - loss: 0.1511 - accuracy: 0.7468 - val_loss: 0.2445 - val_accuracy: 0.5848\n",
            "Epoch 59/200\n",
            "89/89 [==============================] - 17s 188ms/step - loss: 0.1558 - accuracy: 0.7434 - val_loss: 0.2456 - val_accuracy: 0.6059\n",
            "Epoch 60/200\n",
            "89/89 [==============================] - 17s 188ms/step - loss: 0.1535 - accuracy: 0.7490 - val_loss: 0.2452 - val_accuracy: 0.5961\n",
            "Epoch 61/200\n",
            "89/89 [==============================] - 17s 188ms/step - loss: 0.1545 - accuracy: 0.7366 - val_loss: 0.2515 - val_accuracy: 0.6045\n",
            "Epoch 62/200\n",
            "89/89 [==============================] - 17s 187ms/step - loss: 0.1595 - accuracy: 0.7315 - val_loss: 0.2505 - val_accuracy: 0.6031\n",
            "Epoch 63/200\n",
            "89/89 [==============================] - 17s 187ms/step - loss: 0.1516 - accuracy: 0.7477 - val_loss: 0.2532 - val_accuracy: 0.5911\n",
            "Epoch 64/200\n",
            "89/89 [==============================] - 17s 188ms/step - loss: 0.1487 - accuracy: 0.7622 - val_loss: 0.2463 - val_accuracy: 0.6052\n",
            "Epoch 65/200\n",
            "89/89 [==============================] - 17s 188ms/step - loss: 0.1487 - accuracy: 0.7500 - val_loss: 0.2532 - val_accuracy: 0.6017\n",
            "Epoch 66/200\n",
            "89/89 [==============================] - 17s 188ms/step - loss: 0.1457 - accuracy: 0.7614 - val_loss: 0.2425 - val_accuracy: 0.6151\n",
            "Epoch 67/200\n",
            "89/89 [==============================] - 17s 188ms/step - loss: 0.1537 - accuracy: 0.7415 - val_loss: 0.2661 - val_accuracy: 0.5559\n",
            "Epoch 68/200\n",
            "89/89 [==============================] - 17s 188ms/step - loss: 0.1892 - accuracy: 0.6696 - val_loss: 0.2555 - val_accuracy: 0.5876\n",
            "Epoch 69/200\n",
            "89/89 [==============================] - 17s 189ms/step - loss: 0.1726 - accuracy: 0.7088 - val_loss: 0.2492 - val_accuracy: 0.5890\n",
            "Epoch 70/200\n",
            "89/89 [==============================] - 17s 189ms/step - loss: 0.1651 - accuracy: 0.7140 - val_loss: 0.2536 - val_accuracy: 0.5911\n",
            "Epoch 71/200\n",
            "89/89 [==============================] - 17s 188ms/step - loss: 0.1577 - accuracy: 0.7290 - val_loss: 0.2515 - val_accuracy: 0.5968\n",
            "Epoch 72/200\n",
            "89/89 [==============================] - 17s 188ms/step - loss: 0.1672 - accuracy: 0.7103 - val_loss: 0.2558 - val_accuracy: 0.5989\n",
            "Epoch 73/200\n",
            "89/89 [==============================] - 17s 189ms/step - loss: 0.1487 - accuracy: 0.7530 - val_loss: 0.2629 - val_accuracy: 0.6052\n",
            "Epoch 74/200\n",
            "89/89 [==============================] - 17s 188ms/step - loss: 0.1528 - accuracy: 0.7459 - val_loss: 0.2471 - val_accuracy: 0.6024\n",
            "Epoch 75/200\n",
            "89/89 [==============================] - 17s 189ms/step - loss: 0.1538 - accuracy: 0.7396 - val_loss: 0.2576 - val_accuracy: 0.6122\n",
            "Epoch 76/200\n",
            "89/89 [==============================] - 17s 188ms/step - loss: 0.1458 - accuracy: 0.7557 - val_loss: 0.2544 - val_accuracy: 0.6066\n",
            "Epoch 77/200\n",
            "89/89 [==============================] - 17s 188ms/step - loss: 0.1485 - accuracy: 0.7537 - val_loss: 0.2564 - val_accuracy: 0.6059\n",
            "Epoch 78/200\n",
            "89/89 [==============================] - 17s 189ms/step - loss: 0.1441 - accuracy: 0.7597 - val_loss: 0.2628 - val_accuracy: 0.6010\n",
            "Epoch 79/200\n",
            "89/89 [==============================] - 17s 188ms/step - loss: 0.1441 - accuracy: 0.7619 - val_loss: 0.2648 - val_accuracy: 0.5947\n",
            "Epoch 80/200\n",
            "89/89 [==============================] - 17s 188ms/step - loss: 0.1491 - accuracy: 0.7538 - val_loss: 0.2720 - val_accuracy: 0.6066\n",
            "Epoch 81/200\n",
            "89/89 [==============================] - 17s 188ms/step - loss: 0.1416 - accuracy: 0.7671 - val_loss: 0.2645 - val_accuracy: 0.6080\n",
            "Epoch 82/200\n",
            "89/89 [==============================] - 17s 188ms/step - loss: 0.1357 - accuracy: 0.7749 - val_loss: 0.2714 - val_accuracy: 0.6108\n",
            "Epoch 83/200\n",
            "89/89 [==============================] - 17s 189ms/step - loss: 0.1379 - accuracy: 0.7751 - val_loss: 0.2731 - val_accuracy: 0.6151\n",
            "Epoch 84/200\n",
            "89/89 [==============================] - 17s 188ms/step - loss: 0.1479 - accuracy: 0.7521 - val_loss: 0.2672 - val_accuracy: 0.5862\n",
            "Epoch 85/200\n",
            "89/89 [==============================] - 17s 189ms/step - loss: 0.1755 - accuracy: 0.7028 - val_loss: 0.2473 - val_accuracy: 0.5961\n",
            "Epoch 86/200\n",
            "89/89 [==============================] - 17s 189ms/step - loss: 0.1505 - accuracy: 0.7533 - val_loss: 0.2565 - val_accuracy: 0.5996\n",
            "Epoch 87/200\n",
            "89/89 [==============================] - 17s 189ms/step - loss: 0.1437 - accuracy: 0.7600 - val_loss: 0.2613 - val_accuracy: 0.6172\n",
            "Epoch 88/200\n",
            "89/89 [==============================] - 17s 189ms/step - loss: 0.1339 - accuracy: 0.7823 - val_loss: 0.2654 - val_accuracy: 0.6101\n",
            "Epoch 89/200\n",
            "89/89 [==============================] - 17s 189ms/step - loss: 0.1314 - accuracy: 0.7875 - val_loss: 0.2633 - val_accuracy: 0.6108\n",
            "Epoch 90/200\n",
            "89/89 [==============================] - 17s 189ms/step - loss: 0.1385 - accuracy: 0.7621 - val_loss: 0.2776 - val_accuracy: 0.5904\n",
            "Epoch 91/200\n",
            "89/89 [==============================] - 17s 189ms/step - loss: 0.1473 - accuracy: 0.7524 - val_loss: 0.2692 - val_accuracy: 0.6073\n",
            "Epoch 92/200\n",
            "89/89 [==============================] - 17s 189ms/step - loss: 0.1414 - accuracy: 0.7696 - val_loss: 0.2692 - val_accuracy: 0.6094\n",
            "Epoch 93/200\n",
            "89/89 [==============================] - 17s 188ms/step - loss: 0.1353 - accuracy: 0.7762 - val_loss: 0.2814 - val_accuracy: 0.6066\n",
            "Epoch 94/200\n",
            "89/89 [==============================] - 17s 188ms/step - loss: 0.1230 - accuracy: 0.8015 - val_loss: 0.2823 - val_accuracy: 0.6052\n",
            "Epoch 95/200\n",
            "89/89 [==============================] - 17s 189ms/step - loss: 0.1303 - accuracy: 0.7795 - val_loss: 0.2758 - val_accuracy: 0.6193\n",
            "Epoch 96/200\n",
            "89/89 [==============================] - 17s 189ms/step - loss: 0.1238 - accuracy: 0.7931 - val_loss: 0.2772 - val_accuracy: 0.6144\n",
            "Epoch 97/200\n",
            "89/89 [==============================] - 17s 188ms/step - loss: 0.1281 - accuracy: 0.7848 - val_loss: 0.2788 - val_accuracy: 0.6108\n",
            "Epoch 98/200\n",
            "89/89 [==============================] - 17s 189ms/step - loss: 0.1304 - accuracy: 0.7794 - val_loss: 0.2780 - val_accuracy: 0.6101\n",
            "Epoch 99/200\n",
            "89/89 [==============================] - 17s 189ms/step - loss: 0.1282 - accuracy: 0.7809 - val_loss: 0.2821 - val_accuracy: 0.6101\n",
            "Epoch 100/200\n",
            "89/89 [==============================] - 17s 189ms/step - loss: 0.1262 - accuracy: 0.7895 - val_loss: 0.2772 - val_accuracy: 0.6179\n",
            "Epoch 101/200\n",
            "89/89 [==============================] - 17s 189ms/step - loss: 0.1179 - accuracy: 0.8059 - val_loss: 0.2809 - val_accuracy: 0.6073\n",
            "Epoch 102/200\n",
            "89/89 [==============================] - 17s 189ms/step - loss: 0.1265 - accuracy: 0.7856 - val_loss: 0.2946 - val_accuracy: 0.5503\n",
            "Epoch 103/200\n",
            "89/89 [==============================] - 17s 189ms/step - loss: 0.2469 - accuracy: 0.5798 - val_loss: 0.2615 - val_accuracy: 0.5517\n",
            "Epoch 104/200\n",
            "89/89 [==============================] - 17s 189ms/step - loss: 0.2192 - accuracy: 0.6195 - val_loss: 0.2489 - val_accuracy: 0.5707\n",
            "Epoch 105/200\n",
            "89/89 [==============================] - 17s 189ms/step - loss: 0.1990 - accuracy: 0.6569 - val_loss: 0.2469 - val_accuracy: 0.5911\n",
            "Epoch 106/200\n",
            "89/89 [==============================] - 17s 189ms/step - loss: 0.1843 - accuracy: 0.6875 - val_loss: 0.2461 - val_accuracy: 0.5918\n",
            "Epoch 107/200\n",
            "89/89 [==============================] - 17s 190ms/step - loss: 0.1769 - accuracy: 0.7108 - val_loss: 0.2494 - val_accuracy: 0.5954\n",
            "Epoch 108/200\n",
            "89/89 [==============================] - 17s 188ms/step - loss: 0.1709 - accuracy: 0.7002 - val_loss: 0.2551 - val_accuracy: 0.6003\n",
            "Epoch 109/200\n",
            "89/89 [==============================] - 17s 188ms/step - loss: 0.1555 - accuracy: 0.7344 - val_loss: 0.2559 - val_accuracy: 0.5932\n",
            "Epoch 110/200\n",
            "89/89 [==============================] - 17s 189ms/step - loss: 0.1658 - accuracy: 0.7203 - val_loss: 0.2572 - val_accuracy: 0.6017\n",
            "Epoch 111/200\n",
            "89/89 [==============================] - 17s 188ms/step - loss: 0.1589 - accuracy: 0.7282 - val_loss: 0.2577 - val_accuracy: 0.6031\n",
            "Epoch 112/200\n",
            "89/89 [==============================] - 17s 189ms/step - loss: 0.1507 - accuracy: 0.7530 - val_loss: 0.2575 - val_accuracy: 0.6137\n",
            "Epoch 113/200\n",
            "89/89 [==============================] - 17s 189ms/step - loss: 0.1491 - accuracy: 0.7546 - val_loss: 0.2693 - val_accuracy: 0.6045\n",
            "Epoch 114/200\n",
            "89/89 [==============================] - 17s 189ms/step - loss: 0.1409 - accuracy: 0.7668 - val_loss: 0.2691 - val_accuracy: 0.6101\n",
            "Epoch 115/200\n",
            "89/89 [==============================] - 17s 189ms/step - loss: 0.1393 - accuracy: 0.7629 - val_loss: 0.2723 - val_accuracy: 0.6108\n",
            "Epoch 116/200\n",
            "89/89 [==============================] - 17s 189ms/step - loss: 0.1376 - accuracy: 0.7721 - val_loss: 0.2791 - val_accuracy: 0.6038\n",
            "Epoch 117/200\n",
            "89/89 [==============================] - 17s 189ms/step - loss: 0.1353 - accuracy: 0.7662 - val_loss: 0.2801 - val_accuracy: 0.6165\n",
            "Epoch 118/200\n",
            "89/89 [==============================] - 17s 188ms/step - loss: 0.1395 - accuracy: 0.7706 - val_loss: 0.2793 - val_accuracy: 0.6087\n",
            "Epoch 119/200\n",
            "89/89 [==============================] - 17s 189ms/step - loss: 0.1308 - accuracy: 0.7734 - val_loss: 0.2726 - val_accuracy: 0.6122\n",
            "Epoch 120/200\n",
            "89/89 [==============================] - 17s 189ms/step - loss: 0.1334 - accuracy: 0.7770 - val_loss: 0.2816 - val_accuracy: 0.6066\n",
            "Epoch 121/200\n",
            "89/89 [==============================] - 17s 189ms/step - loss: 0.1265 - accuracy: 0.7911 - val_loss: 0.2928 - val_accuracy: 0.6115\n",
            "Epoch 122/200\n",
            "89/89 [==============================] - 17s 189ms/step - loss: 0.1238 - accuracy: 0.7889 - val_loss: 0.2867 - val_accuracy: 0.6059\n",
            "Epoch 123/200\n",
            "89/89 [==============================] - 17s 188ms/step - loss: 0.1213 - accuracy: 0.8000 - val_loss: 0.2909 - val_accuracy: 0.5982\n",
            "Epoch 124/200\n",
            "89/89 [==============================] - 17s 189ms/step - loss: 0.1240 - accuracy: 0.8015 - val_loss: 0.2888 - val_accuracy: 0.6010\n",
            "Epoch 125/200\n",
            "89/89 [==============================] - 17s 189ms/step - loss: 0.1212 - accuracy: 0.8006 - val_loss: 0.2820 - val_accuracy: 0.6059\n",
            "Epoch 126/200\n",
            "89/89 [==============================] - 17s 189ms/step - loss: 0.1267 - accuracy: 0.7876 - val_loss: 0.2876 - val_accuracy: 0.6038\n",
            "Epoch 127/200\n",
            "89/89 [==============================] - 17s 189ms/step - loss: 0.1217 - accuracy: 0.8095 - val_loss: 0.2884 - val_accuracy: 0.6122\n",
            "Epoch 128/200\n",
            "89/89 [==============================] - 17s 189ms/step - loss: 0.1196 - accuracy: 0.8020 - val_loss: 0.2932 - val_accuracy: 0.6115\n",
            "Epoch 129/200\n",
            "89/89 [==============================] - 17s 188ms/step - loss: 0.1170 - accuracy: 0.8059 - val_loss: 0.3004 - val_accuracy: 0.6108\n",
            "Epoch 130/200\n",
            "89/89 [==============================] - 17s 189ms/step - loss: 0.1277 - accuracy: 0.7851 - val_loss: 0.2841 - val_accuracy: 0.6179\n",
            "Epoch 131/200\n",
            "89/89 [==============================] - 17s 189ms/step - loss: 0.1218 - accuracy: 0.8027 - val_loss: 0.2926 - val_accuracy: 0.6129\n",
            "Epoch 132/200\n",
            "89/89 [==============================] - 17s 189ms/step - loss: 0.1180 - accuracy: 0.8166 - val_loss: 0.2557 - val_accuracy: 0.6073\n",
            "Epoch 133/200\n",
            "89/89 [==============================] - 17s 189ms/step - loss: 0.1358 - accuracy: 0.7826 - val_loss: 0.2797 - val_accuracy: 0.6080\n",
            "Epoch 134/200\n",
            "89/89 [==============================] - 17s 189ms/step - loss: 0.1201 - accuracy: 0.8002 - val_loss: 0.2825 - val_accuracy: 0.6115\n",
            "Epoch 135/200\n",
            "89/89 [==============================] - 17s 189ms/step - loss: 0.1185 - accuracy: 0.8072 - val_loss: 0.2875 - val_accuracy: 0.6129\n",
            "Epoch 136/200\n",
            "89/89 [==============================] - 17s 188ms/step - loss: 0.1140 - accuracy: 0.8118 - val_loss: 0.2870 - val_accuracy: 0.6115\n",
            "Epoch 137/200\n",
            "89/89 [==============================] - 17s 189ms/step - loss: 0.1150 - accuracy: 0.8094 - val_loss: 0.2914 - val_accuracy: 0.6122\n",
            "Epoch 138/200\n",
            "89/89 [==============================] - 17s 189ms/step - loss: 0.1112 - accuracy: 0.8238 - val_loss: 0.2988 - val_accuracy: 0.6165\n",
            "Epoch 139/200\n",
            "89/89 [==============================] - 17s 188ms/step - loss: 0.1100 - accuracy: 0.8255 - val_loss: 0.3008 - val_accuracy: 0.6144\n",
            "Epoch 140/200\n",
            "89/89 [==============================] - 17s 188ms/step - loss: 0.1022 - accuracy: 0.8318 - val_loss: 0.2980 - val_accuracy: 0.6137\n",
            "Epoch 141/200\n",
            "89/89 [==============================] - 17s 188ms/step - loss: 0.1140 - accuracy: 0.8121 - val_loss: 0.3107 - val_accuracy: 0.6122\n",
            "Epoch 142/200\n",
            "89/89 [==============================] - 17s 189ms/step - loss: 0.1076 - accuracy: 0.8313 - val_loss: 0.3058 - val_accuracy: 0.6186\n",
            "Epoch 143/200\n",
            "89/89 [==============================] - 17s 190ms/step - loss: 0.1064 - accuracy: 0.8337 - val_loss: 0.3301 - val_accuracy: 0.6122\n",
            "Epoch 144/200\n",
            "89/89 [==============================] - 17s 189ms/step - loss: 0.1104 - accuracy: 0.8189 - val_loss: 0.3026 - val_accuracy: 0.6066\n",
            "Epoch 145/200\n",
            "89/89 [==============================] - 17s 188ms/step - loss: 0.1108 - accuracy: 0.8165 - val_loss: 0.3143 - val_accuracy: 0.6073\n",
            "Epoch 146/200\n",
            "89/89 [==============================] - 17s 188ms/step - loss: 0.1212 - accuracy: 0.8030 - val_loss: 0.2931 - val_accuracy: 0.5954\n",
            "Epoch 147/200\n",
            "89/89 [==============================] - 17s 188ms/step - loss: 0.1310 - accuracy: 0.7869 - val_loss: 0.2862 - val_accuracy: 0.6137\n",
            "Epoch 148/200\n",
            "89/89 [==============================] - 17s 189ms/step - loss: 0.1280 - accuracy: 0.7966 - val_loss: 0.2811 - val_accuracy: 0.6010\n",
            "Epoch 149/200\n",
            "89/89 [==============================] - 17s 189ms/step - loss: 0.1580 - accuracy: 0.7395 - val_loss: 0.2551 - val_accuracy: 0.5897\n",
            "Epoch 150/200\n",
            "89/89 [==============================] - 17s 188ms/step - loss: 0.1721 - accuracy: 0.7148 - val_loss: 0.2590 - val_accuracy: 0.5947\n",
            "Epoch 151/200\n",
            "89/89 [==============================] - 17s 188ms/step - loss: 0.1566 - accuracy: 0.7370 - val_loss: 0.2611 - val_accuracy: 0.6010\n",
            "Epoch 152/200\n",
            "89/89 [==============================] - 17s 189ms/step - loss: 0.1477 - accuracy: 0.7477 - val_loss: 0.2558 - val_accuracy: 0.6129\n",
            "Epoch 153/200\n",
            "89/89 [==============================] - 17s 189ms/step - loss: 0.1389 - accuracy: 0.7662 - val_loss: 0.2635 - val_accuracy: 0.6108\n",
            "Epoch 154/200\n",
            "89/89 [==============================] - 17s 189ms/step - loss: 0.1348 - accuracy: 0.7743 - val_loss: 0.2672 - val_accuracy: 0.6129\n",
            "Epoch 155/200\n",
            "89/89 [==============================] - 17s 189ms/step - loss: 0.1338 - accuracy: 0.7826 - val_loss: 0.2610 - val_accuracy: 0.6017\n",
            "Epoch 156/200\n",
            "89/89 [==============================] - 17s 188ms/step - loss: 0.1524 - accuracy: 0.7428 - val_loss: 0.2626 - val_accuracy: 0.5996\n",
            "Epoch 157/200\n",
            "89/89 [==============================] - 17s 188ms/step - loss: 0.1447 - accuracy: 0.7736 - val_loss: 0.2702 - val_accuracy: 0.6038\n",
            "Epoch 158/200\n",
            "89/89 [==============================] - 17s 189ms/step - loss: 0.1333 - accuracy: 0.7870 - val_loss: 0.2735 - val_accuracy: 0.6052\n",
            "Epoch 159/200\n",
            "89/89 [==============================] - 17s 188ms/step - loss: 0.1366 - accuracy: 0.7742 - val_loss: 0.2795 - val_accuracy: 0.6158\n",
            "Epoch 160/200\n",
            "89/89 [==============================] - 17s 188ms/step - loss: 0.1260 - accuracy: 0.7961 - val_loss: 0.2831 - val_accuracy: 0.6144\n",
            "Epoch 161/200\n",
            "89/89 [==============================] - 17s 188ms/step - loss: 0.1236 - accuracy: 0.7904 - val_loss: 0.2894 - val_accuracy: 0.6221\n",
            "Epoch 162/200\n",
            "89/89 [==============================] - 17s 188ms/step - loss: 0.1173 - accuracy: 0.8101 - val_loss: 0.2943 - val_accuracy: 0.6207\n",
            "Epoch 163/200\n",
            "89/89 [==============================] - 17s 189ms/step - loss: 0.1144 - accuracy: 0.8062 - val_loss: 0.3008 - val_accuracy: 0.6122\n",
            "Epoch 164/200\n",
            "89/89 [==============================] - 17s 189ms/step - loss: 0.1147 - accuracy: 0.8091 - val_loss: 0.3105 - val_accuracy: 0.6108\n",
            "Epoch 165/200\n",
            "89/89 [==============================] - 17s 189ms/step - loss: 0.1104 - accuracy: 0.8251 - val_loss: 0.2988 - val_accuracy: 0.6158\n",
            "Epoch 166/200\n",
            "89/89 [==============================] - 17s 188ms/step - loss: 0.1111 - accuracy: 0.8205 - val_loss: 0.2998 - val_accuracy: 0.6108\n",
            "Epoch 167/200\n",
            "89/89 [==============================] - 17s 189ms/step - loss: 0.1070 - accuracy: 0.8290 - val_loss: 0.3109 - val_accuracy: 0.6080\n",
            "Epoch 168/200\n",
            "89/89 [==============================] - 17s 189ms/step - loss: 0.1051 - accuracy: 0.8276 - val_loss: 0.3086 - val_accuracy: 0.6059\n",
            "Epoch 169/200\n",
            "89/89 [==============================] - 17s 189ms/step - loss: 0.1076 - accuracy: 0.8318 - val_loss: 0.3132 - val_accuracy: 0.6137\n",
            "Epoch 170/200\n",
            "89/89 [==============================] - 17s 189ms/step - loss: 0.0994 - accuracy: 0.8411 - val_loss: 0.3206 - val_accuracy: 0.6214\n",
            "Epoch 171/200\n",
            "89/89 [==============================] - 17s 189ms/step - loss: 0.1097 - accuracy: 0.8154 - val_loss: 0.3165 - val_accuracy: 0.6066\n",
            "Epoch 172/200\n",
            "89/89 [==============================] - 17s 188ms/step - loss: 0.1139 - accuracy: 0.8253 - val_loss: 0.2944 - val_accuracy: 0.6179\n",
            "Epoch 173/200\n",
            "89/89 [==============================] - 17s 189ms/step - loss: 0.1066 - accuracy: 0.8315 - val_loss: 0.3182 - val_accuracy: 0.6165\n",
            "Epoch 174/200\n",
            "89/89 [==============================] - 17s 188ms/step - loss: 0.1001 - accuracy: 0.8443 - val_loss: 0.3085 - val_accuracy: 0.6179\n",
            "Epoch 175/200\n",
            "89/89 [==============================] - 17s 188ms/step - loss: 0.1286 - accuracy: 0.7832 - val_loss: 0.2659 - val_accuracy: 0.5911\n",
            "Epoch 176/200\n",
            "89/89 [==============================] - 17s 189ms/step - loss: 0.1521 - accuracy: 0.7530 - val_loss: 0.2718 - val_accuracy: 0.5989\n",
            "Epoch 177/200\n",
            "89/89 [==============================] - 17s 188ms/step - loss: 0.1376 - accuracy: 0.7867 - val_loss: 0.2679 - val_accuracy: 0.5982\n",
            "Epoch 178/200\n",
            "89/89 [==============================] - 17s 189ms/step - loss: 0.1300 - accuracy: 0.7808 - val_loss: 0.2832 - val_accuracy: 0.6038\n",
            "Epoch 179/200\n",
            "89/89 [==============================] - 17s 189ms/step - loss: 0.1239 - accuracy: 0.8084 - val_loss: 0.2796 - val_accuracy: 0.6045\n",
            "Epoch 180/200\n",
            "89/89 [==============================] - 17s 189ms/step - loss: 0.1148 - accuracy: 0.8163 - val_loss: 0.2839 - val_accuracy: 0.6179\n",
            "Epoch 181/200\n",
            "89/89 [==============================] - 17s 188ms/step - loss: 0.1185 - accuracy: 0.8088 - val_loss: 0.2911 - val_accuracy: 0.6172\n",
            "Epoch 182/200\n",
            "89/89 [==============================] - 17s 189ms/step - loss: 0.1128 - accuracy: 0.8141 - val_loss: 0.2928 - val_accuracy: 0.6165\n",
            "Epoch 183/200\n",
            "89/89 [==============================] - 17s 189ms/step - loss: 0.1027 - accuracy: 0.8364 - val_loss: 0.3048 - val_accuracy: 0.6094\n",
            "Epoch 184/200\n",
            "89/89 [==============================] - 17s 189ms/step - loss: 0.1215 - accuracy: 0.8008 - val_loss: 0.2848 - val_accuracy: 0.6101\n",
            "Epoch 185/200\n",
            "89/89 [==============================] - 17s 189ms/step - loss: 0.1141 - accuracy: 0.8153 - val_loss: 0.2885 - val_accuracy: 0.6144\n",
            "Epoch 186/200\n",
            "89/89 [==============================] - 17s 189ms/step - loss: 0.1117 - accuracy: 0.8245 - val_loss: 0.2811 - val_accuracy: 0.6186\n",
            "Epoch 187/200\n",
            "89/89 [==============================] - 17s 190ms/step - loss: 0.1149 - accuracy: 0.8166 - val_loss: 0.2876 - val_accuracy: 0.6052\n",
            "Epoch 188/200\n",
            "89/89 [==============================] - 17s 189ms/step - loss: 0.1185 - accuracy: 0.8120 - val_loss: 0.2809 - val_accuracy: 0.6010\n",
            "Epoch 189/200\n",
            "89/89 [==============================] - 17s 188ms/step - loss: 0.1164 - accuracy: 0.8128 - val_loss: 0.2852 - val_accuracy: 0.5918\n",
            "Epoch 190/200\n",
            "89/89 [==============================] - 17s 189ms/step - loss: 0.1367 - accuracy: 0.7866 - val_loss: 0.2724 - val_accuracy: 0.5686\n",
            "Epoch 191/200\n",
            "89/89 [==============================] - 17s 189ms/step - loss: 0.1845 - accuracy: 0.6921 - val_loss: 0.2751 - val_accuracy: 0.5792\n",
            "Epoch 192/200\n",
            "89/89 [==============================] - 17s 189ms/step - loss: 0.1711 - accuracy: 0.7050 - val_loss: 0.2786 - val_accuracy: 0.5813\n",
            "Epoch 193/200\n",
            "89/89 [==============================] - 17s 189ms/step - loss: 0.1626 - accuracy: 0.7278 - val_loss: 0.2683 - val_accuracy: 0.5989\n",
            "Epoch 194/200\n",
            "89/89 [==============================] - 17s 189ms/step - loss: 0.1549 - accuracy: 0.7376 - val_loss: 0.2819 - val_accuracy: 0.5954\n",
            "Epoch 195/200\n",
            "89/89 [==============================] - 17s 189ms/step - loss: 0.1500 - accuracy: 0.7449 - val_loss: 0.2659 - val_accuracy: 0.5939\n",
            "Epoch 196/200\n",
            "89/89 [==============================] - 17s 189ms/step - loss: 0.1526 - accuracy: 0.7577 - val_loss: 0.2761 - val_accuracy: 0.6010\n",
            "Epoch 197/200\n",
            "89/89 [==============================] - 17s 189ms/step - loss: 0.1340 - accuracy: 0.7749 - val_loss: 0.2858 - val_accuracy: 0.6038\n",
            "Epoch 198/200\n",
            "89/89 [==============================] - 17s 189ms/step - loss: 0.1333 - accuracy: 0.7723 - val_loss: 0.2834 - val_accuracy: 0.6101\n",
            "Epoch 199/200\n",
            "89/89 [==============================] - 17s 189ms/step - loss: 0.1247 - accuracy: 0.7922 - val_loss: 0.2859 - val_accuracy: 0.6094\n",
            "Epoch 200/200\n",
            "89/89 [==============================] - 17s 189ms/step - loss: 0.1158 - accuracy: 0.8107 - val_loss: 0.2963 - val_accuracy: 0.6080\n"
          ],
          "name": "stdout"
        }
      ]
    },
    {
      "cell_type": "code",
      "metadata": {
        "colab": {
          "base_uri": "https://localhost:8080/",
          "height": 295
        },
        "id": "AvJqfUKMnWTj",
        "outputId": "d3eb84db-a3a0-4f89-d994-be9b1c488c6f"
      },
      "source": [
        "# Plot loss\n",
        "loss = history.history['loss']\n",
        "val_loss = history.history['val_loss']\n",
        "epochs = range(1, len(loss)+1)\n",
        "plt.plot(epochs, loss, label='Training loss')\n",
        "plt.plot(epochs, val_loss, label='Validation loss')\n",
        "plt.title('Training and validation loss')\n",
        "plt.xlabel('Epochs')\n",
        "plt.ylabel('Loss')\n",
        "plt.legend()\n",
        "#plt.show();\n",
        "plt.savefig('/models/200epoch/target_loss_200epoch.png')"
      ],
      "execution_count": null,
      "outputs": [
        {
          "output_type": "display_data",
          "data": {
            "image/png": "[encoded data removed]",
            "text/plain": [
              "<Figure size 432x288 with 1 Axes>"
            ]
          },
          "metadata": {
            "tags": [],
            "needs_background": "light"
          }
        }
      ]
    },
    {
      "cell_type": "code",
      "metadata": {
        "colab": {
          "base_uri": "https://localhost:8080/",
          "height": 295
        },
        "id": "FUFSOD6ynYXe",
        "outputId": "69c42eb5-d57e-46c7-b8b3-68426879812f"
      },
      "source": [
        "# Plot accuracy\n",
        "accuracy = history.history['accuracy']\n",
        "val_accuracy = history.history['val_accuracy']\n",
        "plt.plot(epochs, accuracy, label='Training accuracy')\n",
        "plt.plot(epochs, val_accuracy, label='Validation accuracy')\n",
        "plt.title('Training and validation accuracy')\n",
        "plt.ylabel('Accuracy')\n",
        "plt.xlabel('Epochs')\n",
        "plt.legend()\n",
        "#plt.show();\n",
        "plt.savefig('/models/200epoch/target_accuracy_200epoch.png')"
      ],
      "execution_count": null,
      "outputs": [
        {
          "output_type": "display_data",
          "data": {
            "image/png": "[encoded data removed]",
            "text/plain": [
              "<Figure size 432x288 with 1 Axes>"
            ]
          },
          "metadata": {
            "tags": [],
            "needs_background": "light"
          }
        }
      ]
    },
    {
      "cell_type": "markdown",
      "metadata": {
        "id": "2DfVGdppuuWp"
      },
      "source": [
        "# Start of data processing"
      ]
    },
    {
      "cell_type": "code",
      "metadata": {
        "id": "K20WU61ffnQE"
      },
      "source": [
        "# Import libraries\n",
        "from glove import Corpus, Glove\n",
        "from mittens import Mittens\n",
        "import csv"
      ],
      "execution_count": null,
      "outputs": []
    },
    {
      "cell_type": "markdown",
      "metadata": {
        "id": "qiSNMbfOvafq"
      },
      "source": [
        "## Source data preparation"
      ]
    },
    {
      "cell_type": "code",
      "metadata": {
        "id": "TkkHCH2WfRBK"
      },
      "source": [
        "# Load the dataset\n",
        "df = pd.read_csv('/datasets/source_final.txt', names=['calls'])"
      ],
      "execution_count": null,
      "outputs": []
    },
    {
      "cell_type": "code",
      "metadata": {
        "id": "dUdFUNG4oTJ3",
        "colab": {
          "base_uri": "https://localhost:8080/",
          "height": 136
        },
        "outputId": "36df330c-1e0b-4ba5-c1af-92357cd3aecc"
      },
      "source": [
        "df.head(3)"
      ],
      "execution_count": null,
      "outputs": [
        {
          "output_type": "execute_result",
          "data": {
            "text/html": [
              "<div>\n",
              "<style scoped>\n",
              "    .dataframe tbody tr th:only-of-type {\n",
              "        vertical-align: middle;\n",
              "    }\n",
              "\n",
              "    .dataframe tbody tr th {\n",
              "        vertical-align: top;\n",
              "    }\n",
              "\n",
              "    .dataframe thead th {\n",
              "        text-align: right;\n",
              "    }\n",
              "</style>\n",
              "<table border=\"1\" class=\"dataframe\">\n",
              "  <thead>\n",
              "    <tr style=\"text-align: right;\">\n",
              "      <th></th>\n",
              "      <th>calls</th>\n",
              "    </tr>\n",
              "  </thead>\n",
              "  <tbody>\n",
              "    <tr>\n",
              "      <th>0</th>\n",
              "      <td>GetCurrentProcessId GetCurrentThreadId CloseHa...</td>\n",
              "    </tr>\n",
              "    <tr>\n",
              "      <th>1</th>\n",
              "      <td>GetModuleHandleExW GetModuleFileNameW GetStdHa...</td>\n",
              "    </tr>\n",
              "    <tr>\n",
              "      <th>2</th>\n",
              "      <td>HeapSize Sleep IsDebuggerPresent SetUnhandledE...</td>\n",
              "    </tr>\n",
              "  </tbody>\n",
              "</table>\n",
              "</div>"
            ],
            "text/plain": [
              "                                               calls\n",
              "0  GetCurrentProcessId GetCurrentThreadId CloseHa...\n",
              "1  GetModuleHandleExW GetModuleFileNameW GetStdHa...\n",
              "2  HeapSize Sleep IsDebuggerPresent SetUnhandledE..."
            ]
          },
          "metadata": {
            "tags": []
          },
          "execution_count": 6
        }
      ]
    },
    {
      "cell_type": "code",
      "metadata": {
        "id": "-7TIPv9HpLHx"
      },
      "source": [
        "# Get words\n",
        "new_lines = [line.split() for line in df.calls]"
      ],
      "execution_count": null,
      "outputs": []
    },
    {
      "cell_type": "markdown",
      "metadata": {
        "id": "IRIUjtWovdX1"
      },
      "source": [
        "## Target data preparation"
      ]
    },
    {
      "cell_type": "code",
      "metadata": {
        "id": "s4CA70kSvfad"
      },
      "source": [
        "# Load datasets\n",
        "train = pd.read_csv('/datasets/api-call-dataset/target_train_numerized.txt', names=['calls', 'types'])\n",
        "test = pd.read_csv('/datasets/api-call-dataset/target_test_numerized.txt', names=['calls', 'types'])"
      ],
      "execution_count": null,
      "outputs": []
    },
    {
      "cell_type": "code",
      "metadata": {
        "id": "yRDVbeJivnX6"
      },
      "source": [
        "# Combine datasets\n",
        "df = train.append(test, ignore_index=True)"
      ],
      "execution_count": null,
      "outputs": []
    },
    {
      "cell_type": "code",
      "metadata": {
        "id": "FRkT0cxSv9Vn"
      },
      "source": [
        "# Delete older datasets to free memory\n",
        "del train\n",
        "del test"
      ],
      "execution_count": null,
      "outputs": []
    },
    {
      "cell_type": "code",
      "metadata": {
        "colab": {
          "base_uri": "https://localhost:8080/"
        },
        "id": "_AqgeTofwBfg",
        "outputId": "87f0b85f-36d9-42b0-90cf-aa7e99a920df"
      },
      "source": [
        "len(df)"
      ],
      "execution_count": null,
      "outputs": [
        {
          "output_type": "execute_result",
          "data": {
            "text/plain": [
              "7107"
            ]
          },
          "metadata": {
            "tags": []
          },
          "execution_count": 10
        }
      ]
    },
    {
      "cell_type": "code",
      "metadata": {
        "id": "DcCEO0kewNQK"
      },
      "source": [
        "# Get words\n",
        "new_lines = [line.split() for line in df.calls]"
      ],
      "execution_count": null,
      "outputs": []
    },
    {
      "cell_type": "markdown",
      "metadata": {
        "id": "kddUw6sKuyct"
      },
      "source": [
        "## GloVe for source"
      ]
    },
    {
      "cell_type": "code",
      "metadata": {
        "id": "tY8VX7sksOlQ"
      },
      "source": [
        "# Create new corpus\n",
        "corpus = Corpus() "
      ],
      "execution_count": null,
      "outputs": []
    },
    {
      "cell_type": "code",
      "metadata": {
        "id": "y-YkULspsTnp"
      },
      "source": [
        "corpus.fit(new_lines, window=10)"
      ],
      "execution_count": null,
      "outputs": []
    },
    {
      "cell_type": "code",
      "metadata": {
        "id": "-Njg6_IMshYe"
      },
      "source": [
        "# Create GloVe model\n",
        "glove = Glove(no_components=100, learning_rate=0.05)"
      ],
      "execution_count": null,
      "outputs": []
    },
    {
      "cell_type": "code",
      "metadata": {
        "colab": {
          "base_uri": "https://localhost:8080/"
        },
        "id": "9dLqpbVvskDr",
        "outputId": "5cb77c1a-a11d-46ef-9f7c-9dd74f715bd4"
      },
      "source": [
        "# Train the GloVe model\n",
        "glove.fit(corpus.matrix, epochs=100, no_threads=4, verbose=True)"
      ],
      "execution_count": null,
      "outputs": [
        {
          "output_type": "stream",
          "text": [
            "Performing 100 training epochs with 4 threads\n",
            "Epoch 0\n",
            "Epoch 1\n",
            "Epoch 2\n",
            "Epoch 3\n",
            "Epoch 4\n",
            "Epoch 5\n",
            "Epoch 6\n",
            "Epoch 7\n",
            "Epoch 8\n",
            "Epoch 9\n",
            "Epoch 10\n",
            "Epoch 11\n",
            "Epoch 12\n",
            "Epoch 13\n",
            "Epoch 14\n",
            "Epoch 15\n",
            "Epoch 16\n",
            "Epoch 17\n",
            "Epoch 18\n",
            "Epoch 19\n",
            "Epoch 20\n",
            "Epoch 21\n",
            "Epoch 22\n",
            "Epoch 23\n",
            "Epoch 24\n",
            "Epoch 25\n",
            "Epoch 26\n",
            "Epoch 27\n",
            "Epoch 28\n",
            "Epoch 29\n",
            "Epoch 30\n",
            "Epoch 31\n",
            "Epoch 32\n",
            "Epoch 33\n",
            "Epoch 34\n",
            "Epoch 35\n",
            "Epoch 36\n",
            "Epoch 37\n",
            "Epoch 38\n",
            "Epoch 39\n",
            "Epoch 40\n",
            "Epoch 41\n",
            "Epoch 42\n",
            "Epoch 43\n",
            "Epoch 44\n",
            "Epoch 45\n",
            "Epoch 46\n",
            "Epoch 47\n",
            "Epoch 48\n",
            "Epoch 49\n",
            "Epoch 50\n",
            "Epoch 51\n",
            "Epoch 52\n",
            "Epoch 53\n",
            "Epoch 54\n",
            "Epoch 55\n",
            "Epoch 56\n",
            "Epoch 57\n",
            "Epoch 58\n",
            "Epoch 59\n",
            "Epoch 60\n",
            "Epoch 61\n",
            "Epoch 62\n",
            "Epoch 63\n",
            "Epoch 64\n",
            "Epoch 65\n",
            "Epoch 66\n",
            "Epoch 67\n",
            "Epoch 68\n",
            "Epoch 69\n",
            "Epoch 70\n",
            "Epoch 71\n",
            "Epoch 72\n",
            "Epoch 73\n",
            "Epoch 74\n",
            "Epoch 75\n",
            "Epoch 76\n",
            "Epoch 77\n",
            "Epoch 78\n",
            "Epoch 79\n",
            "Epoch 80\n",
            "Epoch 81\n",
            "Epoch 82\n",
            "Epoch 83\n",
            "Epoch 84\n",
            "Epoch 85\n",
            "Epoch 86\n",
            "Epoch 87\n",
            "Epoch 88\n",
            "Epoch 89\n",
            "Epoch 90\n",
            "Epoch 91\n",
            "Epoch 92\n",
            "Epoch 93\n",
            "Epoch 94\n",
            "Epoch 95\n",
            "Epoch 96\n",
            "Epoch 97\n",
            "Epoch 98\n",
            "Epoch 99\n"
          ],
          "name": "stdout"
        }
      ]
    },
    {
      "cell_type": "code",
      "metadata": {
        "id": "9kMjplAbssY5"
      },
      "source": [
        "# Add corpus dictionary to GloVe model\n",
        "glove.add_dictionary(corpus.dictionary)"
      ],
      "execution_count": null,
      "outputs": []
    },
    {
      "cell_type": "code",
      "metadata": {
        "colab": {
          "base_uri": "https://localhost:8080/"
        },
        "id": "kXH0Vd-3tO-E",
        "outputId": "985373f7-c9e7-4de9-8d97-9bd8988b04a1"
      },
      "source": [
        "glove.word_vectors[glove.dictionary['GetCurrentProcessId']]"
      ],
      "execution_count": null,
      "outputs": [
        {
          "output_type": "execute_result",
          "data": {
            "text/plain": [
              "array([-0.01698215, -0.34070298, -0.39242672, -0.42930272, -0.31761357,\n",
              "       -0.11675294,  0.49647759,  0.0321332 , -0.49227692, -0.62632739,\n",
              "       -0.14105358, -0.28816024, -0.04764402,  0.18963497,  0.17112266,\n",
              "        0.93523317,  0.35682526, -0.2187729 , -0.49530892, -0.39461219,\n",
              "       -0.03247362,  0.12712684,  0.48562928,  0.1322491 , -0.50227825,\n",
              "        0.1181357 , -0.54009309,  0.56100411,  0.57321039, -0.37443443,\n",
              "        0.31162458,  0.47935116, -0.01205809, -0.19767736,  0.04069966,\n",
              "        0.26780782, -0.30360378,  0.41161091, -0.26081614,  0.08046009,\n",
              "       -0.0803839 , -0.40695873,  0.2556161 , -0.14086917, -0.29877871,\n",
              "        0.34236567,  0.46133518, -0.14668461,  0.70869146,  0.28274896,\n",
              "        0.07523749, -0.04193935,  0.1965594 ,  0.02072556,  0.22956182,\n",
              "       -0.03705685,  0.5032507 ,  0.25329853, -0.43092908, -0.34674474,\n",
              "        0.90017799,  0.53468325, -0.34508802, -0.2261083 ,  0.20753389,\n",
              "       -0.0908647 , -0.24108487,  0.2267768 ,  0.34512342,  0.00814206,\n",
              "       -0.38772858, -0.10713706,  0.08502265, -0.08577525, -0.14312175,\n",
              "        0.34960239, -0.19342348,  0.52478795, -0.23928517,  0.16979929,\n",
              "        0.44934183,  0.62466547,  0.14166747, -0.54096082, -0.81134227,\n",
              "        0.36893782,  0.11398751, -0.45277963, -0.23477317,  0.02778936,\n",
              "        0.13650219, -0.11584664,  0.30833253, -0.73514892,  0.02469648,\n",
              "       -0.24348726,  0.23021769,  0.65333888, -0.02376511,  0.18191631])"
            ]
          },
          "metadata": {
            "tags": []
          },
          "execution_count": 19
        }
      ]
    },
    {
      "cell_type": "code",
      "metadata": {
        "id": "dyXuKRFqMKP5"
      },
      "source": [
        "# Save the GloVe model\n",
        "with open(\"/embeddings/source_glove.txt\", \"w\") as f:\n",
        "    for word in glove.dictionary:\n",
        "        f.write(word)\n",
        "        f.write(\" \")\n",
        "        for i in range(0, 100):\n",
        "            f.write(str(glove.word_vectors[glove.dictionary[word]][i]))\n",
        "            f.write(\" \")\n",
        "        f.write(\"\\n\")"
      ],
      "execution_count": null,
      "outputs": []
    },
    {
      "cell_type": "markdown",
      "metadata": {
        "id": "VMLQs2VNu3tN"
      },
      "source": [
        "## GloVe for target"
      ]
    },
    {
      "cell_type": "code",
      "metadata": {
        "id": "Q4Wq6K2du65O"
      },
      "source": [
        "# Create new corpus\n",
        "corpus = Corpus() "
      ],
      "execution_count": null,
      "outputs": []
    },
    {
      "cell_type": "code",
      "metadata": {
        "id": "WETiEYyxvGg1"
      },
      "source": [
        "corpus.fit(new_lines, window=10)"
      ],
      "execution_count": null,
      "outputs": []
    },
    {
      "cell_type": "code",
      "metadata": {
        "id": "ZBpU2ZcjvIxd"
      },
      "source": [
        "# Create GloVe model\n",
        "glove = Glove(no_components=100, learning_rate=0.05)"
      ],
      "execution_count": null,
      "outputs": []
    },
    {
      "cell_type": "code",
      "metadata": {
        "colab": {
          "base_uri": "https://localhost:8080/"
        },
        "id": "VR_eSaA_vL3h",
        "outputId": "3370f14b-a79c-4187-81ba-ce53224e478a"
      },
      "source": [
        "# Train the GloVe model\n",
        "glove.fit(corpus.matrix, epochs=100, no_threads=4, verbose=True)"
      ],
      "execution_count": null,
      "outputs": [
        {
          "output_type": "stream",
          "text": [
            "Performing 100 training epochs with 4 threads\n",
            "Epoch 0\n",
            "Epoch 1\n",
            "Epoch 2\n",
            "Epoch 3\n",
            "Epoch 4\n",
            "Epoch 5\n",
            "Epoch 6\n",
            "Epoch 7\n",
            "Epoch 8\n",
            "Epoch 9\n",
            "Epoch 10\n",
            "Epoch 11\n",
            "Epoch 12\n",
            "Epoch 13\n",
            "Epoch 14\n",
            "Epoch 15\n",
            "Epoch 16\n",
            "Epoch 17\n",
            "Epoch 18\n",
            "Epoch 19\n",
            "Epoch 20\n",
            "Epoch 21\n",
            "Epoch 22\n",
            "Epoch 23\n",
            "Epoch 24\n",
            "Epoch 25\n",
            "Epoch 26\n",
            "Epoch 27\n",
            "Epoch 28\n",
            "Epoch 29\n",
            "Epoch 30\n",
            "Epoch 31\n",
            "Epoch 32\n",
            "Epoch 33\n",
            "Epoch 34\n",
            "Epoch 35\n",
            "Epoch 36\n",
            "Epoch 37\n",
            "Epoch 38\n",
            "Epoch 39\n",
            "Epoch 40\n",
            "Epoch 41\n",
            "Epoch 42\n",
            "Epoch 43\n",
            "Epoch 44\n",
            "Epoch 45\n",
            "Epoch 46\n",
            "Epoch 47\n",
            "Epoch 48\n",
            "Epoch 49\n",
            "Epoch 50\n",
            "Epoch 51\n",
            "Epoch 52\n",
            "Epoch 53\n",
            "Epoch 54\n",
            "Epoch 55\n",
            "Epoch 56\n",
            "Epoch 57\n",
            "Epoch 58\n",
            "Epoch 59\n",
            "Epoch 60\n",
            "Epoch 61\n",
            "Epoch 62\n",
            "Epoch 63\n",
            "Epoch 64\n",
            "Epoch 65\n",
            "Epoch 66\n",
            "Epoch 67\n",
            "Epoch 68\n",
            "Epoch 69\n",
            "Epoch 70\n",
            "Epoch 71\n",
            "Epoch 72\n",
            "Epoch 73\n",
            "Epoch 74\n",
            "Epoch 75\n",
            "Epoch 76\n",
            "Epoch 77\n",
            "Epoch 78\n",
            "Epoch 79\n",
            "Epoch 80\n",
            "Epoch 81\n",
            "Epoch 82\n",
            "Epoch 83\n",
            "Epoch 84\n",
            "Epoch 85\n",
            "Epoch 86\n",
            "Epoch 87\n",
            "Epoch 88\n",
            "Epoch 89\n",
            "Epoch 90\n",
            "Epoch 91\n",
            "Epoch 92\n",
            "Epoch 93\n",
            "Epoch 94\n",
            "Epoch 95\n",
            "Epoch 96\n",
            "Epoch 97\n",
            "Epoch 98\n",
            "Epoch 99\n"
          ],
          "name": "stdout"
        }
      ]
    },
    {
      "cell_type": "code",
      "metadata": {
        "id": "mb_GbR43vOGS"
      },
      "source": [
        "# Add corpus dictionary to GloVe model\n",
        "glove.add_dictionary(corpus.dictionary)"
      ],
      "execution_count": null,
      "outputs": []
    },
    {
      "cell_type": "code",
      "metadata": {
        "id": "M0qsF8DBIfSW"
      },
      "source": [
        "# Save the GloVe model\n",
        "with open(\"/embeddings/target_glove.txt\", \"w\") as f:\n",
        "    for word in glove.dictionary:\n",
        "        f.write(word)\n",
        "        f.write(\" \")\n",
        "        for i in range(0, 100):\n",
        "            f.write(str(glove.word_vectors[glove.dictionary[word]][i]))\n",
        "            f.write(\" \")\n",
        "        f.write(\"\\n\")"
      ],
      "execution_count": null,
      "outputs": []
    },
    {
      "cell_type": "markdown",
      "metadata": {
        "id": "dgVvrwApKAXE"
      },
      "source": [
        "## GloVe Fine Tune"
      ]
    },
    {
      "cell_type": "code",
      "metadata": {
        "id": "uxEw67UyMA4h"
      },
      "source": [
        "# Load datasets\n",
        "train = pd.read_csv('/datasets/api-call-dataset/target_train_numerized.txt', names=['calls', 'types'])\n",
        "test = pd.read_csv('/datasets/api-call-dataset/target_test_numerized.txt', names=['calls', 'types'])"
      ],
      "execution_count": null,
      "outputs": []
    },
    {
      "cell_type": "code",
      "metadata": {
        "id": "Ku4TUq6IMDn2"
      },
      "source": [
        "# Combine datasets\n",
        "df = train.append(test, ignore_index=True)"
      ],
      "execution_count": null,
      "outputs": []
    },
    {
      "cell_type": "code",
      "metadata": {
        "id": "aogjhp18MG6Y"
      },
      "source": [
        "# Delete older datasets to free memory\n",
        "del train\n",
        "del test"
      ],
      "execution_count": null,
      "outputs": []
    },
    {
      "cell_type": "code",
      "metadata": {
        "id": "RDv6enoFMKjM"
      },
      "source": [
        "# Get words\n",
        "new_lines = [line.split() for line in df.calls]"
      ],
      "execution_count": null,
      "outputs": []
    },
    {
      "cell_type": "code",
      "metadata": {
        "id": "IA3jprQMMeBn"
      },
      "source": [
        "# Create new corpus\n",
        "corpus = Corpus()"
      ],
      "execution_count": null,
      "outputs": []
    },
    {
      "cell_type": "code",
      "metadata": {
        "id": "1UDUi6HoMgxy"
      },
      "source": [
        "corpus.fit(new_lines, window=10)"
      ],
      "execution_count": null,
      "outputs": []
    },
    {
      "cell_type": "code",
      "metadata": {
        "id": "ixN76gMwJiQ5"
      },
      "source": [
        "# Load GloVe model\n",
        "def glove2dict(glove_filename):\n",
        "    with open(glove_filename, encoding='utf-8') as f:\n",
        "        reader = csv.reader(f, delimiter=' ',quoting=csv.QUOTE_NONE)\n",
        "        embed = {line[0]: np.array(list(map(float, line[1:-1])))\n",
        "                for line in reader}\n",
        "    return embed\n",
        "glove_path = \"/embeddings/source_glove.txt\"\n",
        "pre_glove = glove2dict(glove_path)"
      ],
      "execution_count": null,
      "outputs": []
    },
    {
      "cell_type": "code",
      "metadata": {
        "colab": {
          "base_uri": "https://localhost:8080/"
        },
        "id": "0-gI-zKnMBsv",
        "outputId": "5a7d6600-5703-473f-fb58-c016a1fc467c"
      },
      "source": [
        "corpus.matrix.A"
      ],
      "execution_count": null,
      "outputs": [
        {
          "output_type": "execute_result",
          "data": {
            "text/plain": [
              "array([[    0.        ,  7482.2121582 ,  3282.49105835, ...,\n",
              "            0.        ,     0.        ,     0.        ],\n",
              "       [    0.        ,     0.        , 30323.01660156, ...,\n",
              "            0.        ,     0.        ,     0.        ],\n",
              "       [    0.        ,     0.        ,     0.        , ...,\n",
              "            0.        ,     0.        ,     0.        ],\n",
              "       ...,\n",
              "       [    0.        ,     0.        ,     0.        , ...,\n",
              "            0.        ,     0.        ,     0.        ],\n",
              "       [    0.        ,     0.        ,     0.        , ...,\n",
              "            0.        ,     0.        ,     0.        ],\n",
              "       [    0.        ,     0.        ,     0.        , ...,\n",
              "            0.        ,     0.        ,     0.        ]])"
            ]
          },
          "metadata": {
            "tags": []
          },
          "execution_count": 14
        }
      ]
    },
    {
      "cell_type": "code",
      "metadata": {
        "colab": {
          "base_uri": "https://localhost:8080/"
        },
        "id": "Iv-cYANbMEth",
        "outputId": "c11c2b77-722b-4168-ff92-efdb50fa3a68"
      },
      "source": [
        "len(corpus.dictionary)"
      ],
      "execution_count": null,
      "outputs": [
        {
          "output_type": "execute_result",
          "data": {
            "text/plain": [
              "277"
            ]
          },
          "metadata": {
            "tags": []
          },
          "execution_count": 13
        }
      ]
    },
    {
      "cell_type": "code",
      "metadata": {
        "colab": {
          "base_uri": "https://localhost:8080/"
        },
        "id": "60ffMMLTMFrj",
        "outputId": "503f5a00-0035-40ab-975e-7d2d58d377a4"
      },
      "source": [
        "# Create & train mittens model\n",
        "mittens_model = Mittens(n=100, max_iter=100)\n",
        "new_embeddings = mittens_model.fit(\n",
        "    corpus.matrix.A,\n",
        "    vocab=corpus.dictionary,\n",
        "    initial_embedding_dict= pre_glove)"
      ],
      "execution_count": null,
      "outputs": [
        {
          "output_type": "stream",
          "text": [
            "WARNING:tensorflow:From /usr/local/lib/python3.7/dist-packages/tensorflow/python/training/adagrad.py:77: calling Constant.__init__ (from tensorflow.python.ops.init_ops) with dtype is deprecated and will be removed in a future version.\n",
            "Instructions for updating:\n",
            "Call initializer instance with the dtype argument instead of passing it to the constructor\n"
          ],
          "name": "stdout"
        },
        {
          "output_type": "stream",
          "text": [
            "Iteration 100: loss: 1421.376953125"
          ],
          "name": "stderr"
        }
      ]
    },
    {
      "cell_type": "code",
      "metadata": {
        "colab": {
          "base_uri": "https://localhost:8080/"
        },
        "id": "SylUG0SZN5gx",
        "outputId": "c9a5e173-af73-4a4f-e0a5-66874e546941"
      },
      "source": [
        "new_embeddings"
      ],
      "execution_count": null,
      "outputs": [
        {
          "output_type": "execute_result",
          "data": {
            "text/plain": [
              "array([[-0.294923  ,  0.02506275,  0.16276915, ..., -0.09253753,\n",
              "         0.56687343,  0.4047298 ],\n",
              "       [-0.69499695, -0.37334073,  0.47186947, ..., -0.67362213,\n",
              "         0.8701941 ,  0.736621  ],\n",
              "       [-0.6427114 , -0.59279704,  0.5651373 , ..., -0.51227105,\n",
              "         0.49760312, -0.1506432 ],\n",
              "       ...,\n",
              "       [ 0.06963567,  0.02482167,  0.07241724, ..., -0.03610826,\n",
              "         0.03838743,  0.11372021],\n",
              "       [ 0.01979069, -0.16515173,  0.2817885 , ..., -0.17890733,\n",
              "        -0.3988037 ,  0.05237588],\n",
              "       [ 0.04789906,  0.07184386,  0.10630665, ...,  0.08728482,\n",
              "        -0.14047375,  0.16393887]], dtype=float32)"
            ]
          },
          "metadata": {
            "tags": []
          },
          "execution_count": 15
        }
      ]
    },
    {
      "cell_type": "code",
      "metadata": {
        "id": "9Jz5ihAEQkGm"
      },
      "source": [
        "# Save the word embedding\n",
        "with open(\"/embeddings/tf_finetuned_glove.txt\", \"w\") as f:\n",
        "    for word in corpus.dictionary:\n",
        "        f.write(word)\n",
        "        f.write(\" \")\n",
        "        for i in range(0, 100):\n",
        "            f.write(str(new_embeddings[corpus.dictionary[word]][i]))\n",
        "            f.write(\" \")\n",
        "        f.write(\"\\n\")"
      ],
      "execution_count": null,
      "outputs": []
    }
  ]
}